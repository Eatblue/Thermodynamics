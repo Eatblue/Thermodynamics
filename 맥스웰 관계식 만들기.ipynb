{
 "cells": [
  {
   "cell_type": "code",
   "execution_count": 4,
   "metadata": {},
   "outputs": [],
   "source": [
    "from sympy import *\n",
    "import numpy as np"
   ]
  },
  {
   "cell_type": "code",
   "execution_count": 10,
   "metadata": {},
   "outputs": [],
   "source": [
    "#열역학 변수들\n",
    "[dU,T,dS,P,dV,mu,dN]=[Symbol('dU'),Symbol('T'),Symbol('dS'),Symbol('P'),Symbol('dV'),Symbol('mu'),Symbol('dN')]"
   ]
  },
  {
   "cell_type": "code",
   "execution_count": 65,
   "metadata": {},
   "outputs": [
    {
     "data": {
      "text/plain": [
       "array([[T, dS, -P, dV, mu, dN, -1, dU],\n",
       "       [T, dS, -P, dV, mu, dN, -1, dU],\n",
       "       [T, dS, -P, dV, mu, dN, -1, dU],\n",
       "       [T, dS, -P, dV, mu, dN, -1, dU]], dtype=object)"
      ]
     },
     "execution_count": 65,
     "metadata": {},
     "output_type": "execute_result"
    }
   ],
   "source": [
    "nmat=np.array([[T,dS,-P,dV,mu,dN,-1,dU]])# 열역학 제 1법칙을 표현함; TdS-PdV+mudN-dU=0\n",
    "\n",
    "nmat=np.vstack((nmat,nmat,nmat,nmat)) #똑같은 4개의 세트를 쌓은 다음에 3개의 다른 관계식을 만들 것이다. \n",
    "nmat"
   ]
  },
  {
   "cell_type": "code",
   "execution_count": 66,
   "metadata": {},
   "outputs": [
    {
     "data": {
      "text/plain": [
       "array([[T, dS, -P, dV, mu, dN, -1, dU],\n",
       "       [-1, dS, P/T, dV, -mu/T, dN, 1/T, dU],\n",
       "       [T/P, dS, -1, dV, mu/P, dN, -1/P, dU],\n",
       "       [-T/mu, dS, P/mu, dV, -1, dN, 1/mu, dU]], dtype=object)"
      ]
     },
     "execution_count": 66,
     "metadata": {},
     "output_type": "execute_result"
    }
   ],
   "source": [
    "for i in range(3):\n",
    "    denom=-1*nmat[0,2*i]  # T, -P, mu\n",
    "    for j in range(4):\n",
    "        nmat[i+1,2*j]/=denom\n",
    "        \n",
    "nmat  #열역학 1법칙과 파생된 관계식들"
   ]
  },
  {
   "cell_type": "code",
   "execution_count": 67,
   "metadata": {},
   "outputs": [
    {
     "data": {
      "text/plain": [
       "array([[T, dS, -P, dV, mu, dN, -1, dU],\n",
       "       [1/T, dU, P/T, dV, -mu/T, dN, -1, dS],\n",
       "       [T/P, dS, -1/P, dU, mu/P, dN, -1, dV],\n",
       "       [-T/mu, dS, P/mu, dV, 1/mu, dU, -1, dN]], dtype=object)"
      ]
     },
     "execution_count": 67,
     "metadata": {},
     "output_type": "execute_result"
    }
   ],
   "source": [
    "'''\n",
    "이항하기\n",
    "'''\n",
    "\n",
    "for i in range(3):\n",
    "    tmp1,tmp2=nmat[i+1,2*i],nmat[i+1,2*i+1]\n",
    "    nmat[i+1,2*i],nmat[i+1,2*i+1]=nmat[i+1,6],nmat[i+1,7]\n",
    "    nmat[i+1,6],nmat[i+1,7]=tmp1,tmp2\n",
    "    \n",
    "nmat"
   ]
  },
  {
   "cell_type": "code",
   "execution_count": 68,
   "metadata": {},
   "outputs": [
    {
     "data": {
      "text/plain": [
       "array([[T, dS, -P, dV, mu, dN],\n",
       "       [1/T, dU, P/T, dV, -mu/T, dN],\n",
       "       [T/P, dS, -1/P, dU, mu/P, dN],\n",
       "       [-T/mu, dS, P/mu, dV, 1/mu, dU]], dtype=object)"
      ]
     },
     "execution_count": 68,
     "metadata": {},
     "output_type": "execute_result"
    }
   ],
   "source": [
    "Maxwell=nmat[:,0:6] # 열 자르기 : 0열부터 5열까지 살리고 6열부터 자르기\n",
    "Maxwell"
   ]
  },
  {
   "cell_type": "code",
   "execution_count": 73,
   "metadata": {},
   "outputs": [
    {
     "data": {
      "text/plain": [
       "array([[[T, dS],\n",
       "        [-P, dV],\n",
       "        [mu, dN]],\n",
       "\n",
       "       [[1/T, dU],\n",
       "        [P/T, dV],\n",
       "        [-mu/T, dN]],\n",
       "\n",
       "       [[T/P, dS],\n",
       "        [-1/P, dU],\n",
       "        [mu/P, dN]],\n",
       "\n",
       "       [[-T/mu, dS],\n",
       "        [P/mu, dV],\n",
       "        [1/mu, dU]]], dtype=object)"
      ]
     },
     "execution_count": 73,
     "metadata": {},
     "output_type": "execute_result"
    }
   ],
   "source": [
    "Max=Maxwell.reshape(4,3,2) # rank 3짜리 텐서로 만들면 다루기 쉬워진다. \n",
    "Max"
   ]
  },
  {
   "cell_type": "code",
   "execution_count": 76,
   "metadata": {},
   "outputs": [
    {
     "data": {
      "text/plain": [
       "array([[T, dS],\n",
       "       [-P, dV],\n",
       "       [mu, dN]], dtype=object)"
      ]
     },
     "execution_count": 76,
     "metadata": {},
     "output_type": "execute_result"
    }
   ],
   "source": [
    "Max[0]"
   ]
  },
  {
   "cell_type": "code",
   "execution_count": 104,
   "metadata": {},
   "outputs": [],
   "source": [
    "g = np.empty((4,3,4),dtype=\"U6\")  #3행 4열짜리 행렬이 4개 들어있는 빈 텐서를 짜 놓는다 여기에 맥스웰 관계식들이 들어갈 것이다. "
   ]
  },
  {
   "cell_type": "code",
   "execution_count": 105,
   "metadata": {},
   "outputs": [
    {
     "data": {
      "text/plain": [
       "array([['dN', 'T', 'dS', 'mu'],\n",
       "       ['dS', '-P', 'dV', 'T'],\n",
       "       ['dV', 'mu', 'dN', '-P']], dtype='<U6')"
      ]
     },
     "execution_count": 105,
     "metadata": {},
     "output_type": "execute_result"
    }
   ],
   "source": [
    "# 어떻게 들어갈 건지 해본 것 \n",
    "\n",
    "for k in range(3):\n",
    "    g[0][k,0],g[0][k,1],g[0][k,2],g[0][k,3]=Max[0][k-1,1],Max[0][k,0],Max[0][k,1],Max[0][k-1,0]\n",
    "    \n",
    "g[0]"
   ]
  },
  {
   "cell_type": "code",
   "execution_count": 106,
   "metadata": {},
   "outputs": [
    {
     "data": {
      "text/plain": [
       "array([[['dN', 'T', 'dS', 'mu'],\n",
       "        ['dS', '-P', 'dV', 'T'],\n",
       "        ['dV', 'mu', 'dN', '-P']],\n",
       "\n",
       "       [['dN', '1/T', 'dU', '-mu/T'],\n",
       "        ['dU', 'P/T', 'dV', '1/T'],\n",
       "        ['dV', '-mu/T', 'dN', 'P/T']],\n",
       "\n",
       "       [['dN', 'T/P', 'dS', 'mu/P'],\n",
       "        ['dS', '-1/P', 'dU', 'T/P'],\n",
       "        ['dU', 'mu/P', 'dN', '-1/P']],\n",
       "\n",
       "       [['dU', '-T/mu', 'dS', '1/mu'],\n",
       "        ['dS', 'P/mu', 'dV', '-T/mu'],\n",
       "        ['dV', '1/mu', 'dU', 'P/mu']]], dtype='<U6')"
      ]
     },
     "execution_count": 106,
     "metadata": {},
     "output_type": "execute_result"
    }
   ],
   "source": [
    "for i in range(4):\n",
    "    for j in range(3):\n",
    "            g[i][j,0],g[i][j,1],g[i][j,2],g[i][j,3]=Max[i][j-1,1],Max[i][j,0],Max[i][j,1],Max[i][j-1,0]\n",
    "\n",
    "g  "
   ]
  },
  {
   "cell_type": "markdown",
   "metadata": {},
   "source": [
    "여기서 'dN'은 $ \\partial_{N}$ 으로 이해하면 된다. 따라서 ['dN' , 'T' , 'dS' , 'mu' ]는 $\\partial_{N}\\, T=\\partial_{S}\\, \\mu$ 이렇게 보면 된다"
   ]
  },
  {
   "cell_type": "code",
   "execution_count": 107,
   "metadata": {},
   "outputs": [],
   "source": [
    "g=g.reshape((12,4))  #전부 합쳐서 데이터프레임속에 넣어두지"
   ]
  },
  {
   "cell_type": "code",
   "execution_count": 108,
   "metadata": {},
   "outputs": [
    {
     "data": {
      "text/plain": [
       "array([['dN', 'T', 'dS', 'mu'],\n",
       "       ['dS', '-P', 'dV', 'T'],\n",
       "       ['dV', 'mu', 'dN', '-P'],\n",
       "       ['dN', '1/T', 'dU', '-mu/T'],\n",
       "       ['dU', 'P/T', 'dV', '1/T'],\n",
       "       ['dV', '-mu/T', 'dN', 'P/T'],\n",
       "       ['dN', 'T/P', 'dS', 'mu/P'],\n",
       "       ['dS', '-1/P', 'dU', 'T/P'],\n",
       "       ['dU', 'mu/P', 'dN', '-1/P'],\n",
       "       ['dU', '-T/mu', 'dS', '1/mu'],\n",
       "       ['dS', 'P/mu', 'dV', '-T/mu'],\n",
       "       ['dV', '1/mu', 'dU', 'P/mu']], dtype='<U6')"
      ]
     },
     "execution_count": 108,
     "metadata": {},
     "output_type": "execute_result"
    }
   ],
   "source": [
    "g"
   ]
  },
  {
   "cell_type": "code",
   "execution_count": 109,
   "metadata": {},
   "outputs": [],
   "source": [
    "g0=g[:,0:2]  #좌변\n",
    "g1=g[:,2:4]  #우변"
   ]
  },
  {
   "cell_type": "code",
   "execution_count": 110,
   "metadata": {},
   "outputs": [
    {
     "data": {
      "text/plain": [
       "array([['dN', 'T'],\n",
       "       ['dS', '-P'],\n",
       "       ['dV', 'mu'],\n",
       "       ['dN', '1/T'],\n",
       "       ['dU', 'P/T'],\n",
       "       ['dV', '-mu/T'],\n",
       "       ['dN', 'T/P'],\n",
       "       ['dS', '-1/P'],\n",
       "       ['dU', 'mu/P'],\n",
       "       ['dU', '-T/mu'],\n",
       "       ['dS', 'P/mu'],\n",
       "       ['dV', '1/mu']], dtype='<U6')"
      ]
     },
     "execution_count": 110,
     "metadata": {},
     "output_type": "execute_result"
    }
   ],
   "source": [
    "g0"
   ]
  },
  {
   "cell_type": "code",
   "execution_count": 111,
   "metadata": {},
   "outputs": [
    {
     "data": {
      "text/plain": [
       "array([['dS', 'mu'],\n",
       "       ['dV', 'T'],\n",
       "       ['dN', '-P'],\n",
       "       ['dU', '-mu/T'],\n",
       "       ['dV', '1/T'],\n",
       "       ['dN', 'P/T'],\n",
       "       ['dS', 'mu/P'],\n",
       "       ['dU', 'T/P'],\n",
       "       ['dN', '-1/P'],\n",
       "       ['dS', '1/mu'],\n",
       "       ['dV', '-T/mu'],\n",
       "       ['dU', 'P/mu']], dtype='<U6')"
      ]
     },
     "execution_count": 111,
     "metadata": {},
     "output_type": "execute_result"
    }
   ],
   "source": [
    "g1"
   ]
  },
  {
   "cell_type": "code",
   "execution_count": 7,
   "metadata": {},
   "outputs": [],
   "source": [
    "import pandas as pd\n",
    "from pandas import DataFrame"
   ]
  },
  {
   "cell_type": "code",
   "execution_count": 130,
   "metadata": {},
   "outputs": [],
   "source": [
    "equiv=np.array([['='],['='],['='],['='],['='],['='],['='],['='],['='],['='],['='],['=']]) #보기 좋게 하기위해 등호 데이터프레임도 넣어준다.\n",
    "df1=DataFrame(g0)\n",
    "df2=DataFrame(g1)\n",
    "EQ=DataFrame(equiv)"
   ]
  },
  {
   "cell_type": "code",
   "execution_count": 136,
   "metadata": {},
   "outputs": [
    {
     "data": {
      "text/html": [
       "<div>\n",
       "<style scoped>\n",
       "    .dataframe tbody tr th:only-of-type {\n",
       "        vertical-align: middle;\n",
       "    }\n",
       "\n",
       "    .dataframe tbody tr th {\n",
       "        vertical-align: top;\n",
       "    }\n",
       "\n",
       "    .dataframe thead th {\n",
       "        text-align: right;\n",
       "    }\n",
       "</style>\n",
       "<table border=\"1\" class=\"dataframe\">\n",
       "  <thead>\n",
       "    <tr style=\"text-align: right;\">\n",
       "      <th></th>\n",
       "      <th>0</th>\n",
       "      <th>1</th>\n",
       "      <th>0</th>\n",
       "      <th>0</th>\n",
       "      <th>1</th>\n",
       "    </tr>\n",
       "  </thead>\n",
       "  <tbody>\n",
       "    <tr>\n",
       "      <th>0</th>\n",
       "      <td>dN</td>\n",
       "      <td>T</td>\n",
       "      <td>=</td>\n",
       "      <td>dS</td>\n",
       "      <td>mu</td>\n",
       "    </tr>\n",
       "    <tr>\n",
       "      <th>1</th>\n",
       "      <td>dS</td>\n",
       "      <td>-P</td>\n",
       "      <td>=</td>\n",
       "      <td>dV</td>\n",
       "      <td>T</td>\n",
       "    </tr>\n",
       "    <tr>\n",
       "      <th>2</th>\n",
       "      <td>dV</td>\n",
       "      <td>mu</td>\n",
       "      <td>=</td>\n",
       "      <td>dN</td>\n",
       "      <td>-P</td>\n",
       "    </tr>\n",
       "    <tr>\n",
       "      <th>3</th>\n",
       "      <td>dN</td>\n",
       "      <td>1/T</td>\n",
       "      <td>=</td>\n",
       "      <td>dU</td>\n",
       "      <td>-mu/T</td>\n",
       "    </tr>\n",
       "    <tr>\n",
       "      <th>4</th>\n",
       "      <td>dU</td>\n",
       "      <td>P/T</td>\n",
       "      <td>=</td>\n",
       "      <td>dV</td>\n",
       "      <td>1/T</td>\n",
       "    </tr>\n",
       "    <tr>\n",
       "      <th>5</th>\n",
       "      <td>dV</td>\n",
       "      <td>-mu/T</td>\n",
       "      <td>=</td>\n",
       "      <td>dN</td>\n",
       "      <td>P/T</td>\n",
       "    </tr>\n",
       "    <tr>\n",
       "      <th>6</th>\n",
       "      <td>dN</td>\n",
       "      <td>T/P</td>\n",
       "      <td>=</td>\n",
       "      <td>dS</td>\n",
       "      <td>mu/P</td>\n",
       "    </tr>\n",
       "    <tr>\n",
       "      <th>7</th>\n",
       "      <td>dS</td>\n",
       "      <td>-1/P</td>\n",
       "      <td>=</td>\n",
       "      <td>dU</td>\n",
       "      <td>T/P</td>\n",
       "    </tr>\n",
       "    <tr>\n",
       "      <th>8</th>\n",
       "      <td>dU</td>\n",
       "      <td>mu/P</td>\n",
       "      <td>=</td>\n",
       "      <td>dN</td>\n",
       "      <td>-1/P</td>\n",
       "    </tr>\n",
       "    <tr>\n",
       "      <th>9</th>\n",
       "      <td>dU</td>\n",
       "      <td>-T/mu</td>\n",
       "      <td>=</td>\n",
       "      <td>dS</td>\n",
       "      <td>1/mu</td>\n",
       "    </tr>\n",
       "    <tr>\n",
       "      <th>10</th>\n",
       "      <td>dS</td>\n",
       "      <td>P/mu</td>\n",
       "      <td>=</td>\n",
       "      <td>dV</td>\n",
       "      <td>-T/mu</td>\n",
       "    </tr>\n",
       "    <tr>\n",
       "      <th>11</th>\n",
       "      <td>dV</td>\n",
       "      <td>1/mu</td>\n",
       "      <td>=</td>\n",
       "      <td>dU</td>\n",
       "      <td>P/mu</td>\n",
       "    </tr>\n",
       "  </tbody>\n",
       "</table>\n",
       "</div>"
      ],
      "text/plain": [
       "     0      1  0   0      1\n",
       "0   dN      T  =  dS     mu\n",
       "1   dS     -P  =  dV      T\n",
       "2   dV     mu  =  dN     -P\n",
       "3   dN    1/T  =  dU  -mu/T\n",
       "4   dU    P/T  =  dV    1/T\n",
       "5   dV  -mu/T  =  dN    P/T\n",
       "6   dN    T/P  =  dS   mu/P\n",
       "7   dS   -1/P  =  dU    T/P\n",
       "8   dU   mu/P  =  dN   -1/P\n",
       "9   dU  -T/mu  =  dS   1/mu\n",
       "10  dS   P/mu  =  dV  -T/mu\n",
       "11  dV   1/mu  =  dU   P/mu"
      ]
     },
     "execution_count": 136,
     "metadata": {},
     "output_type": "execute_result"
    }
   ],
   "source": [
    "df=pd.concat([df1,EQ,df2],axis=1)\n",
    "df"
   ]
  },
  {
   "cell_type": "markdown",
   "metadata": {},
   "source": [
    "자유에너지의 경우도 한번 보자!"
   ]
  },
  {
   "cell_type": "code",
   "execution_count": 151,
   "metadata": {},
   "outputs": [],
   "source": [
    "# dF=-SdT-PdV+mudN\n",
    "[dF,S,dT,P,dV,mu,dN]=[Symbol('dF'),Symbol('S'),Symbol('dT'),Symbol('P'),Symbol('dV'),Symbol('mu'),Symbol('dN')]\n",
    "nmat=np.array([[-S,dT,-P,dV,mu,dN,-1,dF]])# 열역학 제 1법칙을 표현함; TdS-PdV+mudN-dU=0\n",
    "\n",
    "nmat=np.vstack((nmat,nmat,nmat,nmat)) #똑같은 4개의 세트를 쌓은 다음에 3개의 다른 관계식을 만들 것이다. \n",
    "    \n",
    "for i in range(3):\n",
    "    denom=-1*nmat[0,2*i]  # T, -P, mu\n",
    "    for j in range(4):\n",
    "        nmat[i+1,2*j]/=denom\n",
    "    \n",
    "    '''\n",
    "    이항하기\n",
    "    '''\n",
    "\n",
    "for i in range(3):\n",
    "    tmp1,tmp2=nmat[i+1,2*i],nmat[i+1,2*i+1]\n",
    "    nmat[i+1,2*i],nmat[i+1,2*i+1]=nmat[i+1,6],nmat[i+1,7]\n",
    "    nmat[i+1,6],nmat[i+1,7]=tmp1,tmp2\n",
    "        \n",
    "Maxwell=nmat[:,0:6] #열 자르기\n",
    "    \n",
    "Max=Maxwell.reshape(4,3,2) # rank 3짜리 텐서로 만들면 다루기 쉬워진다.\n",
    "    \n",
    "F = np.empty((4,3,4),dtype=\"U6\")  #3행 4열짜리 행렬이 4개 들어있는 빈 텐서를 짜 놓는다 여기에 맥스웰 관계식들이 들어갈 것이다. \n",
    "\n",
    "for i in range(4):\n",
    "    for j in range(3):\n",
    "            F[i][j,0],F[i][j,1],F[i][j,2],F[i][j,3]=Max[i][j-1,1],Max[i][j,0],Max[i][j,1],Max[i][j-1,0]\n",
    "            \n",
    "F=F.reshape((12,4))  #전부 합쳐서 데이터프레임속에 넣어두지\n",
    "\n",
    "F0=F[:,0:2]  #좌변\n",
    "F1=F[:,2:4]  #우변\n",
    "\n",
    "equiv=np.array([['='],['='],['='],['='],['='],['='],['='],['='],['='],['='],['='],['=']]) #보기 좋게 하기위해 등호 데이터프레임도 넣어준다.\n",
    "df1=DataFrame(F0)\n",
    "df2=DataFrame(F1)\n",
    "EQ=DataFrame(equiv)\n",
    "\n",
    "df=pd.concat([df1,EQ,df2],axis=1)"
   ]
  },
  {
   "cell_type": "code",
   "execution_count": 152,
   "metadata": {},
   "outputs": [
    {
     "data": {
      "text/html": [
       "<div>\n",
       "<style scoped>\n",
       "    .dataframe tbody tr th:only-of-type {\n",
       "        vertical-align: middle;\n",
       "    }\n",
       "\n",
       "    .dataframe tbody tr th {\n",
       "        vertical-align: top;\n",
       "    }\n",
       "\n",
       "    .dataframe thead th {\n",
       "        text-align: right;\n",
       "    }\n",
       "</style>\n",
       "<table border=\"1\" class=\"dataframe\">\n",
       "  <thead>\n",
       "    <tr style=\"text-align: right;\">\n",
       "      <th></th>\n",
       "      <th>0</th>\n",
       "      <th>1</th>\n",
       "      <th>0</th>\n",
       "      <th>0</th>\n",
       "      <th>1</th>\n",
       "    </tr>\n",
       "  </thead>\n",
       "  <tbody>\n",
       "    <tr>\n",
       "      <th>0</th>\n",
       "      <td>dN</td>\n",
       "      <td>-S</td>\n",
       "      <td>=</td>\n",
       "      <td>dT</td>\n",
       "      <td>mu</td>\n",
       "    </tr>\n",
       "    <tr>\n",
       "      <th>1</th>\n",
       "      <td>dT</td>\n",
       "      <td>-P</td>\n",
       "      <td>=</td>\n",
       "      <td>dV</td>\n",
       "      <td>-S</td>\n",
       "    </tr>\n",
       "    <tr>\n",
       "      <th>2</th>\n",
       "      <td>dV</td>\n",
       "      <td>mu</td>\n",
       "      <td>=</td>\n",
       "      <td>dN</td>\n",
       "      <td>-P</td>\n",
       "    </tr>\n",
       "    <tr>\n",
       "      <th>3</th>\n",
       "      <td>dN</td>\n",
       "      <td>-1/S</td>\n",
       "      <td>=</td>\n",
       "      <td>dF</td>\n",
       "      <td>mu/S</td>\n",
       "    </tr>\n",
       "    <tr>\n",
       "      <th>4</th>\n",
       "      <td>dF</td>\n",
       "      <td>-P/S</td>\n",
       "      <td>=</td>\n",
       "      <td>dV</td>\n",
       "      <td>-1/S</td>\n",
       "    </tr>\n",
       "    <tr>\n",
       "      <th>5</th>\n",
       "      <td>dV</td>\n",
       "      <td>mu/S</td>\n",
       "      <td>=</td>\n",
       "      <td>dN</td>\n",
       "      <td>-P/S</td>\n",
       "    </tr>\n",
       "    <tr>\n",
       "      <th>6</th>\n",
       "      <td>dN</td>\n",
       "      <td>-S/P</td>\n",
       "      <td>=</td>\n",
       "      <td>dT</td>\n",
       "      <td>mu/P</td>\n",
       "    </tr>\n",
       "    <tr>\n",
       "      <th>7</th>\n",
       "      <td>dT</td>\n",
       "      <td>-1/P</td>\n",
       "      <td>=</td>\n",
       "      <td>dF</td>\n",
       "      <td>-S/P</td>\n",
       "    </tr>\n",
       "    <tr>\n",
       "      <th>8</th>\n",
       "      <td>dF</td>\n",
       "      <td>mu/P</td>\n",
       "      <td>=</td>\n",
       "      <td>dN</td>\n",
       "      <td>-1/P</td>\n",
       "    </tr>\n",
       "    <tr>\n",
       "      <th>9</th>\n",
       "      <td>dF</td>\n",
       "      <td>S/mu</td>\n",
       "      <td>=</td>\n",
       "      <td>dT</td>\n",
       "      <td>1/mu</td>\n",
       "    </tr>\n",
       "    <tr>\n",
       "      <th>10</th>\n",
       "      <td>dT</td>\n",
       "      <td>P/mu</td>\n",
       "      <td>=</td>\n",
       "      <td>dV</td>\n",
       "      <td>S/mu</td>\n",
       "    </tr>\n",
       "    <tr>\n",
       "      <th>11</th>\n",
       "      <td>dV</td>\n",
       "      <td>1/mu</td>\n",
       "      <td>=</td>\n",
       "      <td>dF</td>\n",
       "      <td>P/mu</td>\n",
       "    </tr>\n",
       "  </tbody>\n",
       "</table>\n",
       "</div>"
      ],
      "text/plain": [
       "     0     1  0   0     1\n",
       "0   dN    -S  =  dT    mu\n",
       "1   dT    -P  =  dV    -S\n",
       "2   dV    mu  =  dN    -P\n",
       "3   dN  -1/S  =  dF  mu/S\n",
       "4   dF  -P/S  =  dV  -1/S\n",
       "5   dV  mu/S  =  dN  -P/S\n",
       "6   dN  -S/P  =  dT  mu/P\n",
       "7   dT  -1/P  =  dF  -S/P\n",
       "8   dF  mu/P  =  dN  -1/P\n",
       "9   dF  S/mu  =  dT  1/mu\n",
       "10  dT  P/mu  =  dV  S/mu\n",
       "11  dV  1/mu  =  dF  P/mu"
      ]
     },
     "execution_count": 152,
     "metadata": {},
     "output_type": "execute_result"
    }
   ],
   "source": [
    "df"
   ]
  },
  {
   "cell_type": "markdown",
   "metadata": {},
   "source": [
    "총 12개의 관계식을 얻을 수 있다. 함수로도 만들 수 있다."
   ]
  },
  {
   "cell_type": "code",
   "execution_count": 2,
   "metadata": {},
   "outputs": [],
   "source": [
    "def MaxRelation(x1,x2,x3,x4,x5,x6,x7,x8):\n",
    "    mat=np.array([[x1,x2,x3,x4,x5,x6,x7,x8]])\n",
    "    nmat=np.vstack((mat,mat,mat,mat))\n",
    "    \n",
    "    for i in range(3):\n",
    "        denom=-1*nmat[0,2*i]  # T, -P, mu\n",
    "        for j in range(4):\n",
    "            nmat[i+1,2*j]/=denom\n",
    "            \n",
    "    \n",
    "    for i in range(3):\n",
    "        tmp1,tmp2=nmat[i+1,2*i],nmat[i+1,2*i+1]\n",
    "        nmat[i+1,2*i],nmat[i+1,2*i+1]=nmat[i+1,6],nmat[i+1,7]\n",
    "        nmat[i+1,6],nmat[i+1,7]=tmp1,tmp2\n",
    "        \n",
    "    Maxwell=nmat[:,0:6] #열 자르기\n",
    "    Max=Maxwell.reshape(4,3,2)\n",
    "    \n",
    "    F = np.empty((4,3,4),dtype=\"U6\")  #3행 4열짜리 행렬이 4개 들어있는 빈 텐서를 짜 놓는다 여기에 맥스웰 관계식들이 들어갈 것이다. \n",
    "\n",
    "    for i in range(4):\n",
    "        for j in range(3):\n",
    "            F[i][j,0],F[i][j,1],F[i][j,2],F[i][j,3]=Max[i][j-1,1],Max[i][j,0],Max[i][j,1],Max[i][j-1,0]\n",
    "            \n",
    "    F=F.reshape((12,4))  #전부 합쳐서 데이터프레임속에 넣어두지\n",
    "\n",
    "    F0=F[:,0:2]  #좌변\n",
    "    F1=F[:,2:4]  #우변\n",
    "\n",
    "    equiv=np.array([['='],['='],['='],['='],['='],['='],['='],['='],['='],['='],['='],['=']]) #보기 좋게 하기위해 등호 데이터프레임도 넣어준다.\n",
    "    df1=DataFrame(F0)\n",
    "    df2=DataFrame(F1)\n",
    "    EQ=DataFrame(equiv)\n",
    "\n",
    "    df=pd.concat([df1,EQ,df2],axis=1)\n",
    "    \n",
    "    return df"
   ]
  },
  {
   "cell_type": "markdown",
   "metadata": {},
   "source": [
    "엔탈피를 한번 보자 $$dH=TdS+\\mu dN+VdP, \\quad TdS+\\mu dN+VdP-dH=0$$"
   ]
  },
  {
   "cell_type": "markdown",
   "metadata": {},
   "source": [
    "MaxRelation 함수에 들어갈 변수는 {T,dS,mu,dN,V,dP,-1,dH} 이고 함수에 넣기 전에 Symbolic하게 만들어서 넣는것을 잊으면 안된다."
   ]
  },
  {
   "cell_type": "code",
   "execution_count": 5,
   "metadata": {},
   "outputs": [],
   "source": [
    "T,dS,mu,dN,V,dP,dH = Symbol('T'),Symbol('dS'),Symbol('mu'),Symbol('dN'),Symbol('V'),Symbol('dP'),Symbol('dH')"
   ]
  },
  {
   "cell_type": "code",
   "execution_count": 8,
   "metadata": {},
   "outputs": [
    {
     "data": {
      "text/html": [
       "<div>\n",
       "<style scoped>\n",
       "    .dataframe tbody tr th:only-of-type {\n",
       "        vertical-align: middle;\n",
       "    }\n",
       "\n",
       "    .dataframe tbody tr th {\n",
       "        vertical-align: top;\n",
       "    }\n",
       "\n",
       "    .dataframe thead th {\n",
       "        text-align: right;\n",
       "    }\n",
       "</style>\n",
       "<table border=\"1\" class=\"dataframe\">\n",
       "  <thead>\n",
       "    <tr style=\"text-align: right;\">\n",
       "      <th></th>\n",
       "      <th>0</th>\n",
       "      <th>1</th>\n",
       "      <th>0</th>\n",
       "      <th>0</th>\n",
       "      <th>1</th>\n",
       "    </tr>\n",
       "  </thead>\n",
       "  <tbody>\n",
       "    <tr>\n",
       "      <th>0</th>\n",
       "      <td>dP</td>\n",
       "      <td>T</td>\n",
       "      <td>=</td>\n",
       "      <td>dS</td>\n",
       "      <td>V</td>\n",
       "    </tr>\n",
       "    <tr>\n",
       "      <th>1</th>\n",
       "      <td>dS</td>\n",
       "      <td>mu</td>\n",
       "      <td>=</td>\n",
       "      <td>dN</td>\n",
       "      <td>T</td>\n",
       "    </tr>\n",
       "    <tr>\n",
       "      <th>2</th>\n",
       "      <td>dN</td>\n",
       "      <td>V</td>\n",
       "      <td>=</td>\n",
       "      <td>dP</td>\n",
       "      <td>mu</td>\n",
       "    </tr>\n",
       "    <tr>\n",
       "      <th>3</th>\n",
       "      <td>dP</td>\n",
       "      <td>1/T</td>\n",
       "      <td>=</td>\n",
       "      <td>dH</td>\n",
       "      <td>-V/T</td>\n",
       "    </tr>\n",
       "    <tr>\n",
       "      <th>4</th>\n",
       "      <td>dH</td>\n",
       "      <td>-mu/T</td>\n",
       "      <td>=</td>\n",
       "      <td>dN</td>\n",
       "      <td>1/T</td>\n",
       "    </tr>\n",
       "    <tr>\n",
       "      <th>5</th>\n",
       "      <td>dN</td>\n",
       "      <td>-V/T</td>\n",
       "      <td>=</td>\n",
       "      <td>dP</td>\n",
       "      <td>-mu/T</td>\n",
       "    </tr>\n",
       "    <tr>\n",
       "      <th>6</th>\n",
       "      <td>dP</td>\n",
       "      <td>-T/mu</td>\n",
       "      <td>=</td>\n",
       "      <td>dS</td>\n",
       "      <td>-V/mu</td>\n",
       "    </tr>\n",
       "    <tr>\n",
       "      <th>7</th>\n",
       "      <td>dS</td>\n",
       "      <td>1/mu</td>\n",
       "      <td>=</td>\n",
       "      <td>dH</td>\n",
       "      <td>-T/mu</td>\n",
       "    </tr>\n",
       "    <tr>\n",
       "      <th>8</th>\n",
       "      <td>dH</td>\n",
       "      <td>-V/mu</td>\n",
       "      <td>=</td>\n",
       "      <td>dP</td>\n",
       "      <td>1/mu</td>\n",
       "    </tr>\n",
       "    <tr>\n",
       "      <th>9</th>\n",
       "      <td>dH</td>\n",
       "      <td>-T/V</td>\n",
       "      <td>=</td>\n",
       "      <td>dS</td>\n",
       "      <td>1/V</td>\n",
       "    </tr>\n",
       "    <tr>\n",
       "      <th>10</th>\n",
       "      <td>dS</td>\n",
       "      <td>-mu/V</td>\n",
       "      <td>=</td>\n",
       "      <td>dN</td>\n",
       "      <td>-T/V</td>\n",
       "    </tr>\n",
       "    <tr>\n",
       "      <th>11</th>\n",
       "      <td>dN</td>\n",
       "      <td>1/V</td>\n",
       "      <td>=</td>\n",
       "      <td>dH</td>\n",
       "      <td>-mu/V</td>\n",
       "    </tr>\n",
       "  </tbody>\n",
       "</table>\n",
       "</div>"
      ],
      "text/plain": [
       "     0      1  0   0      1\n",
       "0   dP      T  =  dS      V\n",
       "1   dS     mu  =  dN      T\n",
       "2   dN      V  =  dP     mu\n",
       "3   dP    1/T  =  dH   -V/T\n",
       "4   dH  -mu/T  =  dN    1/T\n",
       "5   dN   -V/T  =  dP  -mu/T\n",
       "6   dP  -T/mu  =  dS  -V/mu\n",
       "7   dS   1/mu  =  dH  -T/mu\n",
       "8   dH  -V/mu  =  dP   1/mu\n",
       "9   dH   -T/V  =  dS    1/V\n",
       "10  dS  -mu/V  =  dN   -T/V\n",
       "11  dN    1/V  =  dH  -mu/V"
      ]
     },
     "execution_count": 8,
     "metadata": {},
     "output_type": "execute_result"
    }
   ],
   "source": [
    "MaxRelation(T,dS,mu,dN,V,dP,-1,dH)"
   ]
  },
  {
   "cell_type": "markdown",
   "metadata": {},
   "source": [
    "Gibbs free energy: $dG=-SdT+VdP+\\mu dN, \\quad -SdT+VdP+\\mu dN-dG=0$"
   ]
  },
  {
   "cell_type": "code",
   "execution_count": 13,
   "metadata": {},
   "outputs": [],
   "source": [
    "S,dT,V,dP,mu,dN,dG = Symbol('S'),Symbol('dT'),Symbol('V'),Symbol('dP'),Symbol('mu'),Symbol('dN'),Symbol('dG')"
   ]
  },
  {
   "cell_type": "code",
   "execution_count": 14,
   "metadata": {},
   "outputs": [
    {
     "data": {
      "text/html": [
       "<div>\n",
       "<style scoped>\n",
       "    .dataframe tbody tr th:only-of-type {\n",
       "        vertical-align: middle;\n",
       "    }\n",
       "\n",
       "    .dataframe tbody tr th {\n",
       "        vertical-align: top;\n",
       "    }\n",
       "\n",
       "    .dataframe thead th {\n",
       "        text-align: right;\n",
       "    }\n",
       "</style>\n",
       "<table border=\"1\" class=\"dataframe\">\n",
       "  <thead>\n",
       "    <tr style=\"text-align: right;\">\n",
       "      <th></th>\n",
       "      <th>0</th>\n",
       "      <th>1</th>\n",
       "      <th>0</th>\n",
       "      <th>0</th>\n",
       "      <th>1</th>\n",
       "    </tr>\n",
       "  </thead>\n",
       "  <tbody>\n",
       "    <tr>\n",
       "      <th>0</th>\n",
       "      <td>dN</td>\n",
       "      <td>-S</td>\n",
       "      <td>=</td>\n",
       "      <td>dT</td>\n",
       "      <td>mu</td>\n",
       "    </tr>\n",
       "    <tr>\n",
       "      <th>1</th>\n",
       "      <td>dT</td>\n",
       "      <td>V</td>\n",
       "      <td>=</td>\n",
       "      <td>dP</td>\n",
       "      <td>-S</td>\n",
       "    </tr>\n",
       "    <tr>\n",
       "      <th>2</th>\n",
       "      <td>dP</td>\n",
       "      <td>mu</td>\n",
       "      <td>=</td>\n",
       "      <td>dN</td>\n",
       "      <td>V</td>\n",
       "    </tr>\n",
       "    <tr>\n",
       "      <th>3</th>\n",
       "      <td>dN</td>\n",
       "      <td>-1/S</td>\n",
       "      <td>=</td>\n",
       "      <td>dG</td>\n",
       "      <td>mu/S</td>\n",
       "    </tr>\n",
       "    <tr>\n",
       "      <th>4</th>\n",
       "      <td>dG</td>\n",
       "      <td>V/S</td>\n",
       "      <td>=</td>\n",
       "      <td>dP</td>\n",
       "      <td>-1/S</td>\n",
       "    </tr>\n",
       "    <tr>\n",
       "      <th>5</th>\n",
       "      <td>dP</td>\n",
       "      <td>mu/S</td>\n",
       "      <td>=</td>\n",
       "      <td>dN</td>\n",
       "      <td>V/S</td>\n",
       "    </tr>\n",
       "    <tr>\n",
       "      <th>6</th>\n",
       "      <td>dN</td>\n",
       "      <td>S/V</td>\n",
       "      <td>=</td>\n",
       "      <td>dT</td>\n",
       "      <td>-mu/V</td>\n",
       "    </tr>\n",
       "    <tr>\n",
       "      <th>7</th>\n",
       "      <td>dT</td>\n",
       "      <td>1/V</td>\n",
       "      <td>=</td>\n",
       "      <td>dG</td>\n",
       "      <td>S/V</td>\n",
       "    </tr>\n",
       "    <tr>\n",
       "      <th>8</th>\n",
       "      <td>dG</td>\n",
       "      <td>-mu/V</td>\n",
       "      <td>=</td>\n",
       "      <td>dN</td>\n",
       "      <td>1/V</td>\n",
       "    </tr>\n",
       "    <tr>\n",
       "      <th>9</th>\n",
       "      <td>dG</td>\n",
       "      <td>S/mu</td>\n",
       "      <td>=</td>\n",
       "      <td>dT</td>\n",
       "      <td>1/mu</td>\n",
       "    </tr>\n",
       "    <tr>\n",
       "      <th>10</th>\n",
       "      <td>dT</td>\n",
       "      <td>-V/mu</td>\n",
       "      <td>=</td>\n",
       "      <td>dP</td>\n",
       "      <td>S/mu</td>\n",
       "    </tr>\n",
       "    <tr>\n",
       "      <th>11</th>\n",
       "      <td>dP</td>\n",
       "      <td>1/mu</td>\n",
       "      <td>=</td>\n",
       "      <td>dG</td>\n",
       "      <td>-V/mu</td>\n",
       "    </tr>\n",
       "  </tbody>\n",
       "</table>\n",
       "</div>"
      ],
      "text/plain": [
       "     0      1  0   0      1\n",
       "0   dN     -S  =  dT     mu\n",
       "1   dT      V  =  dP     -S\n",
       "2   dP     mu  =  dN      V\n",
       "3   dN   -1/S  =  dG   mu/S\n",
       "4   dG    V/S  =  dP   -1/S\n",
       "5   dP   mu/S  =  dN    V/S\n",
       "6   dN    S/V  =  dT  -mu/V\n",
       "7   dT    1/V  =  dG    S/V\n",
       "8   dG  -mu/V  =  dN    1/V\n",
       "9   dG   S/mu  =  dT   1/mu\n",
       "10  dT  -V/mu  =  dP   S/mu\n",
       "11  dP   1/mu  =  dG  -V/mu"
      ]
     },
     "execution_count": 14,
     "metadata": {},
     "output_type": "execute_result"
    }
   ],
   "source": [
    "MaxRelation(-S,dT,V,dP,mu,dN,-1,dG)"
   ]
  },
  {
   "cell_type": "markdown",
   "metadata": {},
   "source": [
    "이렇게 해서 48개의 관계식을 모두 구했다!"
   ]
  },
  {
   "cell_type": "code",
   "execution_count": null,
   "metadata": {},
   "outputs": [],
   "source": []
  }
 ],
 "metadata": {
  "kernelspec": {
   "display_name": "Python 3",
   "language": "python",
   "name": "python3"
  },
  "language_info": {
   "codemirror_mode": {
    "name": "ipython",
    "version": 3
   },
   "file_extension": ".py",
   "mimetype": "text/x-python",
   "name": "python",
   "nbconvert_exporter": "python",
   "pygments_lexer": "ipython3",
   "version": "3.6.4"
  }
 },
 "nbformat": 4,
 "nbformat_minor": 2
}
