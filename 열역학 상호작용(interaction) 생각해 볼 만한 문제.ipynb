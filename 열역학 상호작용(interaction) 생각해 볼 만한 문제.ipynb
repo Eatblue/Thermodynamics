{
 "cells": [
  {
   "cell_type": "markdown",
   "metadata": {},
   "source": [
    "# Reif 2-4,3-2"
   ]
  },
  {
   "cell_type": "markdown",
   "metadata": {},
   "source": [
    "약하게 상호작용하는 $N$개의 스핀 1/2 인 입자로 이루어진 고립계를 생각하자. 각 입자는 외부 자기장 $H$에 나란하거나 거꾸로 된 자기모멘트 $\\mu$를 갖는다."
   ]
  },
  {
   "cell_type": "markdown",
   "metadata": {},
   "source": [
    "이때, 계의 에너지는 $E=-(n_1-n_2)\\mu H$ 이다. ($n_1$: 자기장과 나란한 스핀을 가진 입자 수  $n_2$: 자기장과 반대 스핀 ~ )"
   ]
  },
  {
   "cell_type": "markdown",
   "metadata": {},
   "source": [
    "(a) 에너지 범위가 $E \\sim E+\\delta E$ 사이에 있을 때, 이 에너지 범위에 놓여 있는 총 상태 수 $\\Omega(E)$ 는? ( $\\delta E$는 $E$에 비해 굉장히 작고 미시적으로는 충분히 커서 $\\mu H$ 보다는 훨씬 크다. )"
   ]
  },
  {
   "cell_type": "markdown",
   "metadata": {},
   "source": [
    "(b) $\\Omega(E)$ 를 $E$에 대한 함수로 나타내어라. (스털링 공식을 써서!)"
   ]
  },
  {
   "cell_type": "markdown",
   "metadata": {},
   "source": [
    "(c) 에너지 $E$가 $\\Omega(E)$인 범위에 있다고 하자. 즉 $E$ 는 가능한 값의 극한인 $\\pm N\\mu H$ 에 가깝지 않다. 이때 (a)의 어림셈을 이용해서 $\\Omega(E)$에 대한 간단한 표현을 구해라."
   ]
  },
  {
   "cell_type": "markdown",
   "metadata": {},
   "source": [
    "(d) (b)에서 구한 $\\Omega(E)$ 와 $\\beta=\\partial ln \\Omega / \\partial E$ 의 정의를 이용해서 계의 총 에너지 $E$ 와 절대온도 $T$ 와의 관계를 구해라"
   ]
  },
  {
   "cell_type": "markdown",
   "metadata": {},
   "source": [
    "(e) $T$ 가 음수인 환경은 무엇일까?"
   ]
  },
  {
   "cell_type": "markdown",
   "metadata": {},
   "source": [
    "(f) 이 계의 총 자기모멘트 $M$ 은 $E$ 와 연관되어 있다. (d)를 이용해서 $M$ 과 $H$ 의 관계를 구해라"
   ]
  },
  {
   "cell_type": "code",
   "execution_count": null,
   "metadata": {},
   "outputs": [],
   "source": []
  }
 ],
 "metadata": {
  "kernelspec": {
   "display_name": "Python 3",
   "language": "python",
   "name": "python3"
  },
  "language_info": {
   "codemirror_mode": {
    "name": "ipython",
    "version": 3
   },
   "file_extension": ".py",
   "mimetype": "text/x-python",
   "name": "python",
   "nbconvert_exporter": "python",
   "pygments_lexer": "ipython3",
   "version": "3.6.4"
  }
 },
 "nbformat": 4,
 "nbformat_minor": 2
}
