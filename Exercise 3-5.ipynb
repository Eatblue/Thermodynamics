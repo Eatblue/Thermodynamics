{
 "cells": [
  {
   "cell_type": "markdown",
   "metadata": {},
   "source": [
    "# 3-5번 문제 "
   ]
  },
  {
   "cell_type": "markdown",
   "metadata": {},
   "source": [
    "(나) 0도씨의 물 1kg을 50도씨의 열원과 열적으로 접촉시켜서 물의 온도를 50도씨로 올렸다. 그 다음, 100도씨의 열원과 접촉시켜서 물의 온도를 100도씨로 올렸다. 물 열원 및 전체 계의 엔트로피 변화량을 구해라."
   ]
  },
  {
   "cell_type": "markdown",
   "metadata": {},
   "source": [
    "물의 비열: $4190J/kg\\cdot K$, 물의 엔트로피 변화량: $\\int dS=C\\,\\mbox{ln}\\frac{T_f}{T_i},\\quad $Heat reservoir의 $\\Delta S=\\frac{\\Delta Q}{T}$"
   ]
  },
  {
   "cell_type": "code",
   "execution_count": 57,
   "metadata": {},
   "outputs": [],
   "source": [
    "import numpy as np\n",
    "from math import log\n",
    "import matplotlib.pyplot as plt"
   ]
  },
  {
   "cell_type": "code",
   "execution_count": 31,
   "metadata": {},
   "outputs": [],
   "source": [
    "C=4190   #1kg물의 열용량\n",
    "B_P=373  # 끓는점\n",
    "step=2  # 0~50, 50~100도씨의 두 단계\n",
    "\n",
    "def ent_change_water(Ti,Tf):\n",
    "    dS=C*log(Tf/Ti)\n",
    "    return dS\n",
    "\n",
    "def ent_change_HR(TR,Ti,Tf):\n",
    "    ds=-C*(Tf-Ti)/TR\n",
    "    return ds\n",
    "\n",
    "Tem=np.linspace(0,100,step+1)+273  # 온도 set (절대온도)"
   ]
  },
  {
   "cell_type": "code",
   "execution_count": 32,
   "metadata": {},
   "outputs": [
    {
     "data": {
      "text/plain": [
       "array([273., 323., 373.])"
      ]
     },
     "execution_count": 32,
     "metadata": {},
     "output_type": "execute_result"
    }
   ],
   "source": [
    "Tem"
   ]
  },
  {
   "cell_type": "markdown",
   "metadata": {},
   "source": [
    "이제 행렬을 짜서 1행에는 물의 엔트로피 변화량들을 저장하고 2행에는 Heat reservoir의 엔트로피 변화량들을 저장할 것이다. "
   ]
  },
  {
   "cell_type": "code",
   "execution_count": 37,
   "metadata": {},
   "outputs": [],
   "source": [
    "nmat=np.zeros((2,step),dtype=float) # step만큼 열 개수를 만든 더미 세트 "
   ]
  },
  {
   "cell_type": "code",
   "execution_count": 38,
   "metadata": {},
   "outputs": [
    {
     "data": {
      "text/plain": [
       "array([[0., 0.],\n",
       "       [0., 0.]])"
      ]
     },
     "execution_count": 38,
     "metadata": {},
     "output_type": "execute_result"
    }
   ],
   "source": [
    "nmat"
   ]
  },
  {
   "cell_type": "markdown",
   "metadata": {},
   "source": [
    "이제 값들을 넣기만 하면 된다. "
   ]
  },
  {
   "cell_type": "code",
   "execution_count": 41,
   "metadata": {},
   "outputs": [
    {
     "data": {
      "text/plain": [
       "array([[ 704.67641248,  603.050344  ],\n",
       "       [-648.60681115, -561.66219839]])"
      ]
     },
     "execution_count": 41,
     "metadata": {},
     "output_type": "execute_result"
    }
   ],
   "source": [
    "for i in range(step):\n",
    "    nmat[0,i]=ent_change_water(Tem[i],Tem[i+1])\n",
    "    nmat[1,i]=ent_change_HR(Tem[i+1],Tem[i],Tem[i+1])  #각 단계마다 Heat reservoir는 Tf의 값과 같다!\n",
    "nmat"
   ]
  },
  {
   "cell_type": "code",
   "execution_count": 43,
   "metadata": {},
   "outputs": [],
   "source": [
    "from pandas import DataFrame"
   ]
  },
  {
   "cell_type": "code",
   "execution_count": 46,
   "metadata": {},
   "outputs": [
    {
     "data": {
      "text/html": [
       "<div>\n",
       "<style scoped>\n",
       "    .dataframe tbody tr th:only-of-type {\n",
       "        vertical-align: middle;\n",
       "    }\n",
       "\n",
       "    .dataframe tbody tr th {\n",
       "        vertical-align: top;\n",
       "    }\n",
       "\n",
       "    .dataframe thead th {\n",
       "        text-align: right;\n",
       "    }\n",
       "</style>\n",
       "<table border=\"1\" class=\"dataframe\">\n",
       "  <thead>\n",
       "    <tr style=\"text-align: right;\">\n",
       "      <th></th>\n",
       "      <th>A1</th>\n",
       "      <th>A2</th>\n",
       "    </tr>\n",
       "  </thead>\n",
       "  <tbody>\n",
       "    <tr>\n",
       "      <th>water</th>\n",
       "      <td>704.676412</td>\n",
       "      <td>603.050344</td>\n",
       "    </tr>\n",
       "    <tr>\n",
       "      <th>HR</th>\n",
       "      <td>-648.606811</td>\n",
       "      <td>-561.662198</td>\n",
       "    </tr>\n",
       "  </tbody>\n",
       "</table>\n",
       "</div>"
      ],
      "text/plain": [
       "               A1          A2\n",
       "water  704.676412  603.050344\n",
       "HR    -648.606811 -561.662198"
      ]
     },
     "execution_count": 46,
     "metadata": {},
     "output_type": "execute_result"
    }
   ],
   "source": [
    "frame1=DataFrame(nmat,columns=['A1','A2'],index=['water','HR'])\n",
    "frame1"
   ]
  },
  {
   "cell_type": "code",
   "execution_count": 47,
   "metadata": {},
   "outputs": [],
   "source": [
    "#총 엔트로피 변화량\n",
    "\n",
    "sum_S=0\n",
    "\n",
    "for i in range(2):    #2행짜리니까 \n",
    "        sum_S+=np.sum(nmat[i])"
   ]
  },
  {
   "cell_type": "code",
   "execution_count": 48,
   "metadata": {},
   "outputs": [
    {
     "data": {
      "text/plain": [
       "97.45774694567399"
      ]
     },
     "execution_count": 48,
     "metadata": {},
     "output_type": "execute_result"
    }
   ],
   "source": [
    "sum_S"
   ]
  },
  {
   "cell_type": "markdown",
   "metadata": {},
   "source": [
    "이제 step이 10개 있을 때 어떻게 되나 보자."
   ]
  },
  {
   "cell_type": "code",
   "execution_count": 49,
   "metadata": {},
   "outputs": [
    {
     "data": {
      "text/plain": [
       "array([[ 150.7356793 ,  145.50073066,  140.6172233 ,  136.05091328,\n",
       "         131.77186594,  127.75379872,  123.97354061,  120.41058493,\n",
       "         117.04671702,  113.86570274],\n",
       "       [-148.0565371 , -143.00341297, -138.28382838, -133.8658147 ,\n",
       "        -129.72136223, -125.82582583, -122.1574344 , -118.69688385,\n",
       "        -115.42699725, -112.33243968]])"
      ]
     },
     "execution_count": 49,
     "metadata": {},
     "output_type": "execute_result"
    }
   ],
   "source": [
    "C=4190   #1kg물의 열용량\n",
    "B_P=373  # 끓는점\n",
    "step=10  # 0~50, 50~100도씨의 두 단계\n",
    "\n",
    "def ent_change_water(Ti,Tf):\n",
    "    dS=C*log(Tf/Ti)\n",
    "    return dS\n",
    "\n",
    "def ent_change_HR(TR,Ti,Tf):\n",
    "    ds=-C*(Tf-Ti)/TR\n",
    "    return ds\n",
    "\n",
    "Tem=np.linspace(0,100,step+1)+273  # 온도 set (절대온도)\n",
    "\n",
    "nmat=np.zeros((2,step),dtype=float) # step만큼 열 개수를 만든 더미 세트 \n",
    "\n",
    "for i in range(step):\n",
    "    nmat[0,i]=ent_change_water(Tem[i],Tem[i+1])\n",
    "    nmat[1,i]=ent_change_HR(Tem[i+1],Tem[i],Tem[i+1])  #각 단계마다 Heat reservoir는 Tf의 값과 같다!\n",
    "nmat"
   ]
  },
  {
   "cell_type": "code",
   "execution_count": 52,
   "metadata": {},
   "outputs": [
    {
     "data": {
      "text/plain": [
       "20.356220098111407"
      ]
     },
     "execution_count": 52,
     "metadata": {},
     "output_type": "execute_result"
    }
   ],
   "source": [
    "#총 엔트로피 변화량\n",
    "\n",
    "sum_S=0\n",
    "\n",
    "for i in range(2):\n",
    "        sum_S+=np.sum(nmat[i])\n",
    "        \n",
    "sum_S"
   ]
  },
  {
   "cell_type": "markdown",
   "metadata": {},
   "source": [
    "전체 계의 엔트로피 변화량이 훨씬 줄었다!"
   ]
  },
  {
   "cell_type": "code",
   "execution_count": 54,
   "metadata": {},
   "outputs": [],
   "source": [
    "def sum_S(step):\n",
    "    Temp=np.linspace(0,100,step+1)+273  # 온도 set (절대온도)\n",
    "\n",
    "    Nmat=np.zeros((2,step),dtype=float) # step만큼 열 개수를 만든 더미 세트 \n",
    "\n",
    "    for i in range(step):\n",
    "        Nmat[0,i]=ent_change_water(Temp[i],Temp[i+1])\n",
    "        Nmat[1,i]=ent_change_HR(Temp[i+1],Temp[i],Temp[i+1])  #각 단계마다 Heat reservoir는 Tf의 값과 같다!\n",
    "    sum_S=0\n",
    "    for j in range(2):\n",
    "        sum_S+=np.sum(Nmat[j])\n",
    "    \n",
    "    return sum_S"
   ]
  },
  {
   "cell_type": "markdown",
   "metadata": {},
   "source": [
    "함수를 정의했으니 그림을 그려보자-step수 증가에 따른 총 엔트로피 증가량의 감소 ??"
   ]
  },
  {
   "cell_type": "code",
   "execution_count": 68,
   "metadata": {},
   "outputs": [],
   "source": [
    "px=[1,2,4,5,10,20,25,50,100]  #100의 약수들\n",
    "py=[]\n",
    "\n",
    "for xx in px:\n",
    "    py.append(sum_S(xx))\n"
   ]
  },
  {
   "cell_type": "code",
   "execution_count": 72,
   "metadata": {},
   "outputs": [
    {
     "data": {
      "image/png": "[encoded data removed]",
      "text/plain": [
       "<matplotlib.figure.Figure at 0x1e9107e2898>"
      ]
     },
     "metadata": {},
     "output_type": "display_data"
    }
   ],
   "source": [
    "plt.plot(px,py)\n",
    "plt.show()"
   ]
  },
  {
   "cell_type": "code",
   "execution_count": 73,
   "metadata": {},
   "outputs": [
    {
     "data": {
      "text/plain": [
       "[184.40235969976402,\n",
       " 97.45774694567399,\n",
       " 50.07643747360885,\n",
       " 40.27800243746378,\n",
       " 20.356220098111407,\n",
       " 10.232473353410569,\n",
       " 8.194678852997185,\n",
       " 4.106040188213456,\n",
       " 2.0551953786418835]"
      ]
     },
     "execution_count": 73,
     "metadata": {},
     "output_type": "execute_result"
    }
   ],
   "source": [
    "py"
   ]
  },
  {
   "cell_type": "markdown",
   "metadata": {},
   "source": [
    "전체 계의 엔트로피 변화량이 계속 줄지만 0이 되지는 않는다!"
   ]
  },
  {
   "cell_type": "code",
   "execution_count": 78,
   "metadata": {},
   "outputs": [
    {
     "data": {
      "text/plain": [
       "0.002057368579244212"
      ]
     },
     "execution_count": 78,
     "metadata": {},
     "output_type": "execute_result"
    }
   ],
   "source": [
    "sum_S(100000) #도 0이 아니다. 이유: dQ=TdS이기 때문에 heat이 왔다갔다 하면 dS가 생길 수밖에 없음!"
   ]
  },
  {
   "cell_type": "code",
   "execution_count": null,
   "metadata": {},
   "outputs": [],
   "source": []
  }
 ],
 "metadata": {
  "kernelspec": {
   "display_name": "Python 3",
   "language": "python",
   "name": "python3"
  },
  "language_info": {
   "codemirror_mode": {
    "name": "ipython",
    "version": 3
   },
   "file_extension": ".py",
   "mimetype": "text/x-python",
   "name": "python",
   "nbconvert_exporter": "python",
   "pygments_lexer": "ipython3",
   "version": "3.6.4"
  }
 },
 "nbformat": 4,
 "nbformat_minor": 2
}
