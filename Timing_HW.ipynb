{
 "cells": [
  {
   "cell_type": "markdown",
   "metadata": {},
   "source": [
    "# 컴퓨터로 $1 mol$ 세기"
   ]
  },
  {
   "cell_type": "code",
   "execution_count": 1,
   "metadata": {},
   "outputs": [
    {
     "name": "stdout",
     "output_type": "stream",
     "text": [
      "Counted numbers :\n",
      "10000000\n",
      "start_time 1537177335.061624\n",
      "--- 2.4948465824127197 seconds ---\n",
      "Total time is 765149043.9851167 years\n"
     ]
    }
   ],
   "source": [
    "import time\n",
    "print(\"Counted numbers :\")\n",
    "start_time=time.time()\n",
    "####1e7까지 세보기\n",
    "\n",
    "for i in range(10000000):\n",
    "    i+=1\n",
    "\n",
    "\n",
    "print(i)\n",
    "print(\"start_time\", start_time) #출력해보면, 시간형식이 사람이 읽기 힘든 일련번호\n",
    "interval=time.time()-start_time\n",
    "print(\"--- %s seconds ---\" %interval)\n",
    "tot_time=(6.02e16)/interval\n",
    "print(\"Total time is %s years\" %(tot_time/(3600*24*365)))"
   ]
  },
  {
   "cell_type": "code",
   "execution_count": null,
   "metadata": {},
   "outputs": [],
   "source": []
  }
 ],
 "metadata": {
  "kernelspec": {
   "display_name": "Python 3",
   "language": "python",
   "name": "python3"
  },
  "language_info": {
   "codemirror_mode": {
    "name": "ipython",
    "version": 3
   },
   "file_extension": ".py",
   "mimetype": "text/x-python",
   "name": "python",
   "nbconvert_exporter": "python",
   "pygments_lexer": "ipython3",
   "version": "3.6.4"
  }
 },
 "nbformat": 4,
 "nbformat_minor": 2
}
