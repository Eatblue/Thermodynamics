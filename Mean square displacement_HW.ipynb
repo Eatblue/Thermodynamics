{
 "cells": [
  {
   "cell_type": "markdown",
   "metadata": {},
   "source": [
    "# 1. Random walk in 1 dimensional space"
   ]
  },
  {
   "cell_type": "markdown",
   "metadata": {},
   "source": [
    "case: 오른쪽으로 갈 확률과 왼쪽으로 갈 확률이 반반 같다. $P(\\rightarrow)=P(\\leftarrow)=1/2 \\,(p=q=1/2)$"
   ]
  },
  {
   "cell_type": "markdown",
   "metadata": {},
   "source": [
    "(책 7~8쪽) 오른쪽 걸음 수를 $n_{1}$, 왼쪽 걸음 수를 $n_{2}$라고 하면, 총 걸음 수는 $N=n_{1}+n_{2}$이고, 알짜 걸음 수는 $m\\equiv n_{1}-n_{2}$이다."
   ]
  },
  {
   "cell_type": "markdown",
   "metadata": {},
   "source": [
    "$<N>=<n_{1}+n_{2}>=<n_{1}>+<n_{2}>=pN+qN=(p+q)N=N$"
   ]
  },
  {
   "cell_type": "markdown",
   "metadata": {},
   "source": [
    "$<m>=<n_{1}-n_{2}>=<n_{1}>-<n_{2}>=pN-qN=(p-q)N$"
   ]
  },
  {
   "cell_type": "markdown",
   "metadata": {},
   "source": [
    "한편, $m=n_{1}-n_{2}=2n_{1}-N$ 이므로, "
   ]
  },
  {
   "cell_type": "markdown",
   "metadata": {},
   "source": [
    "$\\Delta m\\equiv m-<m>=(2n_{1}-N)-(2<n_{1}>-N)$"
   ]
  },
  {
   "cell_type": "markdown",
   "metadata": {},
   "source": [
    "$=2(n_{1}-<n_{1}>$"
   ]
  },
  {
   "cell_type": "markdown",
   "metadata": {},
   "source": [
    "$=2 \\Delta n_{1}$"
   ]
  },
  {
   "cell_type": "markdown",
   "metadata": {},
   "source": [
    "$<(\\Delta m)^{2}>=4<(\\Delta n_{1})^{2}>=4pqN=4(1/2)(1/2)N=N$"
   ]
  },
  {
   "cell_type": "markdown",
   "metadata": {},
   "source": [
    "$\\therefore \\, <(\\Delta m)^{2}>^{1/2}=N^{1/2}$"
   ]
  },
  {
   "cell_type": "markdown",
   "metadata": {},
   "source": [
    "Python으로 구현하기 위해서 먼저 numpy 와 matplotlib.pyplot을 import하자. "
   ]
  },
  {
   "cell_type": "code",
   "execution_count": 14,
   "metadata": {},
   "outputs": [],
   "source": [
    "import numpy as np\n",
    "import matplotlib.pyplot as plt\n",
    "from math import sqrt\n",
    "from tqdm import tqdm_notebook"
   ]
  },
  {
   "cell_type": "markdown",
   "metadata": {},
   "source": [
    "numpy의 random package에서 binomial distribution을 구현할 수 있다. 먼저 step의 개수가 10일때를 보자.(origin:0)"
   ]
  },
  {
   "cell_type": "code",
   "execution_count": 8,
   "metadata": {},
   "outputs": [
    {
     "name": "stdout",
     "output_type": "stream",
     "text": [
      "P((-10))= 0.00115\n",
      "P((-8))= 0.01024\n",
      "P((-6))= 0.04419\n",
      "P((-4))= 0.11592\n",
      "P((-2))= 0.2061\n",
      "P((0))= 0.24702\n",
      "P((2))= 0.20385\n",
      "P((4))= 0.1184\n",
      "P((6))= 0.04301\n",
      "P((8))= 0.00901\n",
      "P((10))= 0.00111\n",
      "\n"
     ]
    },
    {
     "data": {
      "image/png": "[encoded data removed]",
      "text/plain": [
       "<matplotlib.figure.Figure at 0x25bc660ac50>"
      ]
     },
     "metadata": {},
     "output_type": "display_data"
    }
   ],
   "source": [
    "n,p=10,.5\n",
    "s1=np.random.binomial(n,p,100000) #숫자 100000이 들어간 부분은 100000번 반복했다는 뜻-> 신뢰도가 높아짐\n",
    "px1=[]\n",
    "py1=[]\n",
    "Displacement=0\n",
    "for i in range(n+1):\n",
    "    print(\"P((%d))=\"%(i+(-1)*(10-i)),sum(s1==i)/100000)   #i는 오른쪽(+1)으로 이동한 step의 수! 즉 (10-i)는 왼쪽(-1)으로 이동한 수\n",
    "    px1.append(i)\n",
    "    py1.append(sum(s1==i)/100000)\n",
    "    Displacement+=sqrt((i+(-1)*(10-i))**2)*(sum(s1==i)/100000)\n",
    "print()\n",
    "\n",
    "plt.plot(px1,py1,'g^')\n",
    "plt.show()"
   ]
  },
  {
   "cell_type": "markdown",
   "metadata": {},
   "source": [
    "앞에서 정의해 놓은 displacement는 최종 변위값의 기댓값이다."
   ]
  },
  {
   "cell_type": "code",
   "execution_count": 9,
   "metadata": {},
   "outputs": [
    {
     "name": "stdout",
     "output_type": "stream",
     "text": [
      "2.4569799999999997\n"
     ]
    }
   ],
   "source": [
    "print(Displacement)"
   ]
  },
  {
   "cell_type": "markdown",
   "metadata": {},
   "source": [
    "아예 Dist 함수를 만들자"
   ]
  },
  {
   "cell_type": "code",
   "execution_count": 10,
   "metadata": {},
   "outputs": [],
   "source": [
    "def Dist(t):\n",
    "    s=np.random.binomial(t,p,100000)\n",
    "    Displacement=0\n",
    "    for j in range(t+1):\n",
    "        Displacement+=sqrt((j+(-1)*(t-j))**2)*(sum(s==j)/100000)\n",
    "        \n",
    "    return Displacement"
   ]
  },
  {
   "cell_type": "code",
   "execution_count": 11,
   "metadata": {},
   "outputs": [
    {
     "data": {
      "text/plain": [
       "2.4607999999999994"
      ]
     },
     "execution_count": 11,
     "metadata": {},
     "output_type": "execute_result"
    }
   ],
   "source": [
    "Dist(10)"
   ]
  },
  {
   "cell_type": "code",
   "execution_count": 17,
   "metadata": {},
   "outputs": [
    {
     "data": {
      "application/vnd.jupyter.widget-view+json": {
       "model_id": "cb3c9cbf15154e9aa55f2cc95e09e4a0",
       "version_major": 2,
       "version_minor": 0
      },
      "text/html": [
       "<p>Failed to display Jupyter Widget of type <code>HBox</code>.</p>\n",
       "<p>\n",
       "  If you're reading this message in the Jupyter Notebook or JupyterLab Notebook, it may mean\n",
       "  that the widgets JavaScript is still loading. If this message persists, it\n",
       "  likely means that the widgets JavaScript library is either not installed or\n",
       "  not enabled. See the <a href=\"https://ipywidgets.readthedocs.io/en/stable/user_install.html\">Jupyter\n",
       "  Widgets Documentation</a> for setup instructions.\n",
       "</p>\n",
       "<p>\n",
       "  If you're reading this message in another frontend (for example, a static\n",
       "  rendering on GitHub or <a href=\"https://nbviewer.jupyter.org/\">NBViewer</a>),\n",
       "  it may mean that your frontend doesn't currently support widgets.\n",
       "</p>\n"
      ],
      "text/plain": [
       "HBox(children=(IntProgress(value=0, max=31), HTML(value='')))"
      ]
     },
     "metadata": {},
     "output_type": "display_data"
    },
    {
     "name": "stdout",
     "output_type": "stream",
     "text": [
      "\n"
     ]
    },
    {
     "data": {
      "image/png": "[encoded data removed]",
      "text/plain": [
       "<matplotlib.figure.Figure at 0x25bc66dd358>"
      ]
     },
     "metadata": {},
     "output_type": "display_data"
    }
   ],
   "source": [
    "px=[]\n",
    "py=[]\n",
    "total=tqdm_notebook(range(31))\n",
    "for xx in total:\n",
    "    px.append(xx)\n",
    "    py.append(Dist(xx))\n",
    "    \n",
    "plt.plot(px,py,'ro')\n",
    "plt.show()"
   ]
  },
  {
   "cell_type": "markdown",
   "metadata": {},
   "source": [
    "logscale로 그려보자."
   ]
  },
  {
   "cell_type": "code",
   "execution_count": 36,
   "metadata": {},
   "outputs": [
    {
     "data": {
      "image/png": "[encoded data removed]",
      "text/plain": [
       "<matplotlib.figure.Figure at 0x25bc67d1128>"
      ]
     },
     "metadata": {},
     "output_type": "display_data"
    }
   ],
   "source": [
    "from math import log\n",
    "\n",
    "lnpx=[]\n",
    "lnpy=[]\n",
    "for k in range(30):\n",
    "    lnpx.append(log(px[k+1]))\n",
    "    lnpy.append(log(py[k+1]))\n",
    "    \n",
    "plt.plot(lnpx,lnpy,'go')\n",
    "plt.xscale('log')\n",
    "plt.yscale('log')\n",
    "plt.show()"
   ]
  },
  {
   "cell_type": "markdown",
   "metadata": {},
   "source": [
    "이제 model fitting을 위해서 scipy.optimize package에서 curve_fit을 import하자"
   ]
  },
  {
   "cell_type": "code",
   "execution_count": 37,
   "metadata": {},
   "outputs": [],
   "source": [
    "from scipy.optimize import curve_fit"
   ]
  },
  {
   "cell_type": "markdown",
   "metadata": {},
   "source": [
    "curve_fit을 직접 적용하기 전에 linear model인 func를 하나 정의하자!"
   ]
  },
  {
   "cell_type": "code",
   "execution_count": 38,
   "metadata": {},
   "outputs": [],
   "source": [
    "def func(x,a,b):\n",
    "    return a*x+b"
   ]
  },
  {
   "cell_type": "markdown",
   "metadata": {},
   "source": [
    "이제 본격적으로 fitting해보자!"
   ]
  },
  {
   "cell_type": "code",
   "execution_count": 77,
   "metadata": {},
   "outputs": [
    {
     "name": "stdout",
     "output_type": "stream",
     "text": [
      "[ 0.48000459 -0.17051261]\n",
      "Best fit: (0.480005)x+(-0.170513)\n",
      "\n",
      "[[ 0.00013446 -0.00033461]\n",
      " [-0.00033461  0.00092672]]\n"
     ]
    }
   ],
   "source": [
    "popt, pcov = curve_fit(func, lnpx, lnpy)\n",
    "print(popt) # (a,b)값을 반환해줌!\n",
    "print(\"Best fit: (%f)x+(%f)\"%(popt[0],popt[1]))\n",
    "print()\n",
    "print(pcov) #신뢰도를 보여줌(variance)"
   ]
  },
  {
   "cell_type": "code",
   "execution_count": 76,
   "metadata": {},
   "outputs": [
    {
     "data": {
      "image/png": "[encoded data removed]",
      "text/plain": [
       "<matplotlib.figure.Figure at 0x25bc6660b70>"
      ]
     },
     "metadata": {},
     "output_type": "display_data"
    }
   ],
   "source": [
    "fittedpy=[]\n",
    "for i in range(len(lnpx)):\n",
    "    fittedpy.append(func(lnpx[i],popt[0],popt[1]))\n",
    "\n",
    "plt.scatter(lnpx, lnpy, marker='.')\n",
    "plt.plot(lnpx,fittedpy,color='red')\n",
    "plt.legend(['Best Fit'], loc=2)\n",
    "plt.show()"
   ]
  },
  {
   "cell_type": "code",
   "execution_count": 70,
   "metadata": {},
   "outputs": [
    {
     "data": {
      "text/plain": [
       "1.2695011685316673"
      ]
     },
     "execution_count": 70,
     "metadata": {},
     "output_type": "execute_result"
    }
   ],
   "source": []
  },
  {
   "cell_type": "code",
   "execution_count": null,
   "metadata": {},
   "outputs": [],
   "source": []
  }
 ],
 "metadata": {
  "kernelspec": {
   "display_name": "Python 3",
   "language": "python",
   "name": "python3"
  },
  "language_info": {
   "codemirror_mode": {
    "name": "ipython",
    "version": 3
   },
   "file_extension": ".py",
   "mimetype": "text/x-python",
   "name": "python",
   "nbconvert_exporter": "python",
   "pygments_lexer": "ipython3",
   "version": "3.6.4"
  }
 },
 "nbformat": 4,
 "nbformat_minor": 2
}
