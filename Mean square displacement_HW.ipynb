{
 "cells": [
  {
   "cell_type": "markdown",
   "metadata": {},
   "source": [
    "# 1. Random walk in 1 dimensional space"
   ]
  },
  {
   "cell_type": "markdown",
   "metadata": {},
   "source": [
    "case: 오른쪽으로 갈 확률과 왼쪽으로 갈 확률이 반반 같다. $P(\\rightarrow)=P(\\leftarrow)=1/2 \\,(p=q=1/2)$"
   ]
  },
  {
   "cell_type": "markdown",
   "metadata": {},
   "source": [
    "(책 7~8쪽) 오른쪽 걸음 수를 $n_{1}$, 왼쪽 걸음 수를 $n_{2}$라고 하면, 총 걸음 수는 $N=n_{1}+n_{2}$이고, 알짜 걸음 수는 $m\\equiv n_{1}-n_{2}$이다."
   ]
  },
  {
   "cell_type": "markdown",
   "metadata": {},
   "source": [
    "$<N>=<n_{1}+n_{2}>=<n_{1}>+<n_{2}>=pN+qN=(p+q)N=N$"
   ]
  },
  {
   "cell_type": "markdown",
   "metadata": {},
   "source": [
    "$<m>=<n_{1}-n_{2}>=<n_{1}>-<n_{2}>=pN-qN=(p-q)N$"
   ]
  },
  {
   "cell_type": "markdown",
   "metadata": {},
   "source": [
    "한편, $m=n_{1}-n_{2}=2n_{1}-N$ 이므로, "
   ]
  },
  {
   "cell_type": "markdown",
   "metadata": {},
   "source": [
    "$\\Delta m\\equiv m-<m>=(2n_{1}-N)-(2<n_{1}>-N)$"
   ]
  },
  {
   "cell_type": "markdown",
   "metadata": {},
   "source": [
    "$=2(n_{1}-<n_{1}>$"
   ]
  },
  {
   "cell_type": "markdown",
   "metadata": {},
   "source": [
    "$=2 \\Delta n_{1}$"
   ]
  },
  {
   "cell_type": "markdown",
   "metadata": {},
   "source": [
    "$<(\\Delta m)^{2}>=4<(\\Delta n_{1})^{2}>=4pqN=4(1/2)(1/2)N=N$"
   ]
  },
  {
   "cell_type": "markdown",
   "metadata": {},
   "source": [
    "$\\therefore \\, <(\\Delta m)^{2}>^{1/2}=N^{1/2}$"
   ]
  },
  {
   "cell_type": "markdown",
   "metadata": {},
   "source": [
    "Python으로 구현하기 위해서 먼저 numpy 와 matplotlib.pyplot을 import하자. "
   ]
  },
  {
   "cell_type": "code",
   "execution_count": 14,
   "metadata": {},
   "outputs": [],
   "source": [
    "import numpy as np\n",
    "import matplotlib.pyplot as plt\n",
    "from math import sqrt\n",
    "from tqdm import tqdm_notebook  #진행상황을 보여주는 창인데 필요없다. 깃헙창에서는 안보임"
   ]
  },
  {
   "cell_type": "markdown",
   "metadata": {},
   "source": [
    "numpy의 random package에서 binomial distribution을 구현할 수 있다. "
   ]
  },
  {
   "cell_type": "code",
   "execution_count": 91,
   "metadata": {
    "scrolled": true
   },
   "outputs": [
    {
     "name": "stdout",
     "output_type": "stream",
     "text": [
      "[4 4 6 8 4 7 8 4 4 7 4 6 3 3 4 4 8 4 6 6 7 4 7 1 4 3 4 2 7 3 7 4 4 3 6 3 5\n",
      " 7 8 5 6 6 8 4 7 6 7 6 8 7 7 3 4 4 5 6 4 6 2 5 4 5 3 4 4 3 6 9 4 7 3 4 4 9\n",
      " 5 6 5 6 6 6 3 4 4 2 4 3 6 4 5 5 1 6 4 1 5 2 6 5 5 7 3 5 5 6 5 7 4 4 4 0 6\n",
      " 6 6 7 5 3 8 2 6 5 5 6 4 4 8 5 4 1 5 3 3 3 5 5 3 7 6 3 6 7 5 6 3 4 5 5 4 4\n",
      " 6 6 6 4 6 8 7 6 6 3 4 3 7 4 5 5 4 2 2 6 5 3 5 3 5 5 6 5 5 4 3 5 6 6 5 5 5\n",
      " 5 6 7 6 7 8 4 6 6 4 3 6 6 5 8 5 7 5 6 7 5 7 4 6 4 6 6 3 3 5 5 4 4 3 4 7 4\n",
      " 2 1 5 2 4 7 5 4 4 5 2 4 6 6 5 6 5 6 5 6 7 4 5 5 4 3 9 8 4 6 5 4 4 5 4 6 4\n",
      " 7 5 4 6 4 5 5 5 3 2 6 3 2 4 7 6 4 4 5 4 6 3 6 5 5 3 5 3 6 5 7 5 5 6 4 5 3\n",
      " 7 4 4 5 7 4 5 7 3 6 4 2 2 3 6 6 6 7 3 5 3 1 7 3 7 7 7 5 5 3 4 2 3 2 5 4 5\n",
      " 2 4 6 6 4 6 3 3 5 5 6 5 4 5 6 5 6 6 5 4 6 7 7 3 5 6 6 5 2 2 2 6 5 4 7 7 4\n",
      " 6 2 2 7 6 5 3 5 4 5 5 3 5 4 5 5 3 4 3 5 4 4 4 2 3 7 6 5 4 3 6 5 5 8 4 5 3\n",
      " 4 6 4 6 5 7 4 9 6 3 6 5 5 4 5 4 3 1 6 5 4 3 4 6 4 6 4 4 5 5 5 5 4 5 7 7 3\n",
      " 5 5 7 5 4 1 5 5 4 7 4 5 4 5 2 3 3 5 5 4 4 2 2 7 6 5 3 3 8 3 8 4 6 6 5 4 2\n",
      " 1 4 6 6 6 8 7 6 6 4 5 5 6 3 3 6 5 8 5 6 7 4 4 6 6 3 1 3 7 7 6 6 7 3 3 4 6\n",
      " 5 5 5 4 0 5 4 6 5 5 5 4 8 7 6 5 5 8 1 5 7 3 5 6 4 6 6 3 5 6 7 7 4 3 3 5 6\n",
      " 6 5 4 7 1 6 4 4 6 4 4 3 6 5 7 7 4 8 7 7 4 6 8 7 5 6 2 7 3 5 6 6 4 6 5 6 8\n",
      " 4 7 5 9 6 6 7 8 4 2 6 7 2 4 5 4 3 4 4 7 4 7 3 5 7 3 6 4 7 6 5 6 8 5 7 6 5\n",
      " 7 4 6 5 5 4 5 6 5 6 1 6 5 4 4 6 4 4 3 5 4 7 6 7 5 3 4 4 2 6 4 6 4 7 7 3 5\n",
      " 2 4 6 5 6 5 5 4 5 5 3 5 6 6 3 8 5 4 8 2 7 5 6 5 8 2 5 8 4 7 7 6 5 5 5 5 4\n",
      " 3 6 5 6 5 6 3 4 5 8 6 8 4 5 7 4 6 5 5 3 8 5 4 6 6 4 5 4 6 5 6 6 7 7 7 5 2\n",
      " 5 4 5 4 7 2 4 3 3 3 3 1 6 5 5 5 6 4 5 5 4 6 4 5 5 4 4 7 5 5 5 5 6 6 5 5 6\n",
      " 4 4 6 7 6 4 6 4 5 7 6 5 8 6 6 3 7 3 6 3 2 6 4 4 7 3 8 5 5 4 4 3 4 4 3 4 5\n",
      " 7 4 4 8 2 5 4 5 4 3 5 4 3 8 3 6 5 7 5 6 4 6 8 3 4 7 5 6 6 4 4 1 3 4 6 4 5\n",
      " 8 7 4 7 7 7 2 5 7 2 4 6 8 6 6 7 5 7 5 6 5 5 4 7 7 7 4 4 2 4 4 4 5 4 6 5 7\n",
      " 5 2 4 6 2 4 4 3 6 3 5 5 6 4 4 5 3 4 6 7 3 3 5 5 6 4 5 7 4 7 2 3 7 7 2 5 7\n",
      " 3 4 5 5 6 5 5 4 6 5 3 3 4 6 6 9 5 6 3 3 6 6 2 7 7 6 5 5 4 4 4 8 7 4 8 5 5\n",
      " 6 6 4 7 5 5 3 4 4 4 5 4 6 4 6 4 5 5 5 4 4 5 4 6 6 5 6 6 6 2 4 2 7 3 5 6 6\n",
      " 7]\n"
     ]
    }
   ],
   "source": [
    "n, p = 10, .5  # number of trials, probability of each trial\n",
    "s = np.random.binomial(n, p, 1000)\n",
    "# result of flipping a coin 10 times, tested 1000 times.\n",
    "print(s) #나오는 숫자들은 동전을 10번 던져서 나오는 앞면의 개수(혹은 뒷면의 개수)"
   ]
  },
  {
   "cell_type": "markdown",
   "metadata": {},
   "source": [
    "이제 step의 개수가 10일때를 보자.(origin:0)"
   ]
  },
  {
   "cell_type": "code",
   "execution_count": 118,
   "metadata": {},
   "outputs": [
    {
     "name": "stdout",
     "output_type": "stream",
     "text": [
      "P((-10))= 0.00111\n",
      "P((-8))= 0.00988\n",
      "P((-6))= 0.04281\n",
      "P((-4))= 0.11636\n",
      "P((-2))= 0.20395\n",
      "P((0))= 0.2477\n",
      "P((2))= 0.20434\n",
      "P((4))= 0.1189\n",
      "P((6))= 0.04403\n",
      "P((8))= 0.00989\n",
      "P((10))= 0.00103\n",
      "\n"
     ]
    },
    {
     "data": {
      "image/png": "[encoded data removed]",
      "text/plain": [
       "<matplotlib.figure.Figure at 0x25bc8127a58>"
      ]
     },
     "metadata": {},
     "output_type": "display_data"
    }
   ],
   "source": [
    "n,p=10,.5\n",
    "s1=np.random.binomial(n,p,100000) #숫자 100000이 들어간 부분은 100000번 반복했다는 뜻-> 신뢰도가 높아짐\n",
    "px1=[]\n",
    "py1=[]\n",
    "Displacement=0\n",
    "for i in range(n+1):\n",
    "    print(\"P((%d))=\"%(i+(-1)*(10-i)),sum(s1==i)/100000)   #i는 오른쪽(+1)으로 이동한 step의 수! 즉 (10-i)는 왼쪽(-1)으로 이동한 수\n",
    "    px1.append(i)\n",
    "    py1.append(sum(s1==i)/100000)\n",
    "    Displacement+=sqrt((i+(-1)*(10-i))**2)*(sum(s1==i)/100000)\n",
    "print()\n",
    "\n",
    "plt.plot(px1,py1,'g^')\n",
    "plt.show()"
   ]
  },
  {
   "cell_type": "markdown",
   "metadata": {},
   "source": [
    "앞에서 정의해 놓은 displacement는 최종 변위값의 기댓값이다."
   ]
  },
  {
   "cell_type": "code",
   "execution_count": 9,
   "metadata": {},
   "outputs": [
    {
     "name": "stdout",
     "output_type": "stream",
     "text": [
      "2.4569799999999997\n"
     ]
    }
   ],
   "source": [
    "print(Displacement)"
   ]
  },
  {
   "cell_type": "markdown",
   "metadata": {},
   "source": [
    "아예 Dist 함수를 만들자"
   ]
  },
  {
   "cell_type": "code",
   "execution_count": 10,
   "metadata": {},
   "outputs": [],
   "source": [
    "def Dist(t):\n",
    "    s=np.random.binomial(t,p,100000)\n",
    "    Displacement=0\n",
    "    for j in range(t+1):\n",
    "        Displacement+=sqrt((j+(-1)*(t-j))**2)*(sum(s==j)/100000)\n",
    "        \n",
    "    return Displacement"
   ]
  },
  {
   "cell_type": "code",
   "execution_count": 11,
   "metadata": {},
   "outputs": [
    {
     "data": {
      "text/plain": [
       "2.4607999999999994"
      ]
     },
     "execution_count": 11,
     "metadata": {},
     "output_type": "execute_result"
    }
   ],
   "source": [
    "Dist(10)"
   ]
  },
  {
   "cell_type": "code",
   "execution_count": 17,
   "metadata": {},
   "outputs": [
    {
     "data": {
      "application/vnd.jupyter.widget-view+json": {
       "model_id": "cb3c9cbf15154e9aa55f2cc95e09e4a0",
       "version_major": 2,
       "version_minor": 0
      },
      "text/html": [
       "<p>Failed to display Jupyter Widget of type <code>HBox</code>.</p>\n",
       "<p>\n",
       "  If you're reading this message in the Jupyter Notebook or JupyterLab Notebook, it may mean\n",
       "  that the widgets JavaScript is still loading. If this message persists, it\n",
       "  likely means that the widgets JavaScript library is either not installed or\n",
       "  not enabled. See the <a href=\"https://ipywidgets.readthedocs.io/en/stable/user_install.html\">Jupyter\n",
       "  Widgets Documentation</a> for setup instructions.\n",
       "</p>\n",
       "<p>\n",
       "  If you're reading this message in another frontend (for example, a static\n",
       "  rendering on GitHub or <a href=\"https://nbviewer.jupyter.org/\">NBViewer</a>),\n",
       "  it may mean that your frontend doesn't currently support widgets.\n",
       "</p>\n"
      ],
      "text/plain": [
       "HBox(children=(IntProgress(value=0, max=31), HTML(value='')))"
      ]
     },
     "metadata": {},
     "output_type": "display_data"
    },
    {
     "name": "stdout",
     "output_type": "stream",
     "text": [
      "\n"
     ]
    },
    {
     "data": {
      "image/png": "[encoded data removed]",
      "text/plain": [
       "<matplotlib.figure.Figure at 0x25bc66dd358>"
      ]
     },
     "metadata": {},
     "output_type": "display_data"
    }
   ],
   "source": [
    "px=[]\n",
    "py=[]\n",
    "total=tqdm_notebook(range(31))\n",
    "for xx in total:\n",
    "    px.append(xx)\n",
    "    py.append(Dist(xx))\n",
    "    \n",
    "plt.plot(px,py,'ro')\n",
    "plt.show()"
   ]
  },
  {
   "cell_type": "markdown",
   "metadata": {},
   "source": [
    "logscale로 그려보자."
   ]
  },
  {
   "cell_type": "code",
   "execution_count": 36,
   "metadata": {},
   "outputs": [
    {
     "data": {
      "image/png": "[encoded data removed]",
      "text/plain": [
       "<matplotlib.figure.Figure at 0x25bc67d1128>"
      ]
     },
     "metadata": {},
     "output_type": "display_data"
    }
   ],
   "source": [
    "from math import log\n",
    "\n",
    "lnpx=[]\n",
    "lnpy=[]\n",
    "for k in range(30):\n",
    "    lnpx.append(log(px[k+1]))\n",
    "    lnpy.append(log(py[k+1]))\n",
    "    \n",
    "plt.plot(px,py,'go')\n",
    "plt.xscale('log')\n",
    "plt.yscale('log')\n",
    "plt.show()"
   ]
  },
  {
   "cell_type": "markdown",
   "metadata": {},
   "source": [
    "이제 model fitting을 위해서 scipy.optimize package에서 curve_fit을 import하자"
   ]
  },
  {
   "cell_type": "code",
   "execution_count": 37,
   "metadata": {},
   "outputs": [],
   "source": [
    "from scipy.optimize import curve_fit"
   ]
  },
  {
   "cell_type": "markdown",
   "metadata": {},
   "source": [
    "curve_fit을 직접 적용하기 전에 linear model인 func를 하나 정의하자!"
   ]
  },
  {
   "cell_type": "code",
   "execution_count": 38,
   "metadata": {},
   "outputs": [],
   "source": [
    "def func(x,a,b):\n",
    "    return a*x+b"
   ]
  },
  {
   "cell_type": "markdown",
   "metadata": {},
   "source": [
    "이제 본격적으로 fitting해보자!"
   ]
  },
  {
   "cell_type": "code",
   "execution_count": 77,
   "metadata": {},
   "outputs": [
    {
     "name": "stdout",
     "output_type": "stream",
     "text": [
      "[ 0.48000459 -0.17051261]\n",
      "Best fit: (0.480005)x+(-0.170513)\n",
      "\n",
      "[[ 0.00013446 -0.00033461]\n",
      " [-0.00033461  0.00092672]]\n"
     ]
    }
   ],
   "source": [
    "popt, pcov = curve_fit(func, lnpx, lnpy)\n",
    "print(popt) # (a,b)값을 반환해줌!\n",
    "print(\"Best fit: (%f)x+(%f)\"%(popt[0],popt[1]))\n",
    "print()\n",
    "print(pcov) #신뢰도를 보여줌(variance)"
   ]
  },
  {
   "cell_type": "markdown",
   "metadata": {},
   "source": [
    "$ln(r) \\sim 0.5 ln(t) \\longrightarrow r \\sim t^{1/2}$"
   ]
  },
  {
   "cell_type": "code",
   "execution_count": 76,
   "metadata": {},
   "outputs": [
    {
     "data": {
      "image/png": "[encoded data removed]",
      "text/plain": [
       "<matplotlib.figure.Figure at 0x25bc6660b70>"
      ]
     },
     "metadata": {},
     "output_type": "display_data"
    }
   ],
   "source": [
    "fittedpy=[]\n",
    "for i in range(len(lnpx)):\n",
    "    fittedpy.append(func(lnpx[i],popt[0],popt[1]))\n",
    "\n",
    "plt.scatter(lnpx, lnpy, marker='.')\n",
    "plt.plot(lnpx,fittedpy,color='red')\n",
    "plt.legend(['Best Fit'], loc=2)\n",
    "plt.show()"
   ]
  },
  {
   "cell_type": "markdown",
   "metadata": {},
   "source": [
    "Good! $\\,$ $ln(t)$가 증가할수록 잘 맞는다."
   ]
  },
  {
   "cell_type": "markdown",
   "metadata": {},
   "source": [
    "# 2. Random walk in 2 dimensional space"
   ]
  },
  {
   "cell_type": "markdown",
   "metadata": {},
   "source": [
    "2차원에서 선택할 수 있는 가짓수는 위, 아래, 왼쪽, 오른쪽 4가지다. $\\rightarrow$ multinomial distribution을 도입해야한다."
   ]
  },
  {
   "cell_type": "markdown",
   "metadata": {},
   "source": [
    "case: $p(\\uparrow)=q(\\downarrow)=r(\\rightarrow)=s(\\leftarrow)=1/4$ : multinomial expansion $(p+q+r+s)^{N}$"
   ]
  },
  {
   "cell_type": "markdown",
   "metadata": {},
   "source": [
    "역시 numpy의 random package에서 multinomial distribution을 구현할 수 있다."
   ]
  },
  {
   "cell_type": "code",
   "execution_count": 89,
   "metadata": {},
   "outputs": [
    {
     "data": {
      "text/plain": [
       "array([27, 20, 30, 23])"
      ]
     },
     "execution_count": 89,
     "metadata": {},
     "output_type": "execute_result"
    }
   ],
   "source": [
    "np.random.multinomial(100, [1/4.]*4) #100번 선택해서 각각 방향으로 갈 경우의 수"
   ]
  },
  {
   "cell_type": "markdown",
   "metadata": {},
   "source": [
    "앞에서처럼 먼저 step의 수가 10일 때를 보자 (순서대로 위/아래/오른쪽/왼쪽)"
   ]
  },
  {
   "cell_type": "code",
   "execution_count": 95,
   "metadata": {
    "scrolled": true
   },
   "outputs": [
    {
     "name": "stdout",
     "output_type": "stream",
     "text": [
      "[[1 1 5 3]\n",
      " [2 3 1 4]\n",
      " [5 2 2 1]\n",
      " [3 3 3 1]\n",
      " [4 3 1 2]\n",
      " [3 1 4 2]\n",
      " [5 2 0 3]\n",
      " [2 3 2 3]\n",
      " [4 1 3 2]\n",
      " [2 2 5 1]\n",
      " [2 3 2 3]\n",
      " [2 1 3 4]\n",
      " [2 6 1 1]\n",
      " [3 1 4 2]\n",
      " [4 1 3 2]\n",
      " [6 3 0 1]\n",
      " [2 1 2 5]\n",
      " [3 2 1 4]\n",
      " [2 5 3 0]\n",
      " [1 5 2 2]\n",
      " [2 4 3 1]\n",
      " [2 3 2 3]\n",
      " [1 4 3 2]\n",
      " [1 4 3 2]\n",
      " [3 3 1 3]\n",
      " [0 3 5 2]\n",
      " [4 0 4 2]\n",
      " [2 3 2 3]\n",
      " [2 2 3 3]\n",
      " [3 1 1 5]\n",
      " [2 1 5 2]\n",
      " [3 1 2 4]\n",
      " [2 4 1 3]\n",
      " [2 2 4 2]\n",
      " [2 1 4 3]\n",
      " [1 3 3 3]\n",
      " [3 1 3 3]\n",
      " [5 3 1 1]\n",
      " [3 1 5 1]\n",
      " [5 3 2 0]\n",
      " [5 3 2 0]\n",
      " [1 3 3 3]\n",
      " [4 2 2 2]\n",
      " [3 2 3 2]\n",
      " [3 1 4 2]\n",
      " [1 4 0 5]\n",
      " [1 2 4 3]\n",
      " [1 3 4 2]\n",
      " [4 1 2 3]\n",
      " [3 1 4 2]\n",
      " [3 3 1 3]\n",
      " [4 3 1 2]\n",
      " [3 3 2 2]\n",
      " [4 3 1 2]\n",
      " [3 2 1 4]\n",
      " [0 2 3 5]\n",
      " [5 2 2 1]\n",
      " [3 3 3 1]\n",
      " [3 3 2 2]\n",
      " [3 0 0 7]\n",
      " [2 2 4 2]\n",
      " [2 5 2 1]\n",
      " [2 3 2 3]\n",
      " [0 3 0 7]\n",
      " [1 2 3 4]\n",
      " [2 2 1 5]\n",
      " [3 2 2 3]\n",
      " [2 5 1 2]\n",
      " [1 5 3 1]\n",
      " [3 2 3 2]\n",
      " [3 3 2 2]\n",
      " [2 2 6 0]\n",
      " [2 2 3 3]\n",
      " [2 1 5 2]\n",
      " [2 2 4 2]\n",
      " [1 2 5 2]\n",
      " [6 3 1 0]\n",
      " [1 3 2 4]\n",
      " [1 5 2 2]\n",
      " [1 2 1 6]\n",
      " [0 4 2 4]\n",
      " [2 2 3 3]\n",
      " [4 4 1 1]\n",
      " [3 3 2 2]\n",
      " [2 2 2 4]\n",
      " [2 3 3 2]\n",
      " [4 1 3 2]\n",
      " [1 2 4 3]\n",
      " [0 6 3 1]\n",
      " [4 0 4 2]\n",
      " [2 3 3 2]\n",
      " [2 3 4 1]\n",
      " [1 3 2 4]\n",
      " [2 5 1 2]\n",
      " [0 3 3 4]\n",
      " [2 3 3 2]\n",
      " [2 3 2 3]\n",
      " [2 3 4 1]\n",
      " [2 2 1 5]\n",
      " [5 3 2 0]]\n"
     ]
    }
   ],
   "source": [
    "s2=np.random.multinomial(10,[1/4.]*4,size=100)\n",
    "print(s2)"
   ]
  },
  {
   "cell_type": "markdown",
   "metadata": {},
   "source": [
    "각각의 행들은 (위, 아래, 오른쪽, 왼쪽)을 나타내며 이것이 총 100번(len(s2)번)이루어졌음을 뜻한다. 따라서 총 움직인거리를 100으로 나누면 평균적인 변위를 얻을 수 있다. 다음은 step수가 10일 때 변위를 구한 것이다."
   ]
  },
  {
   "cell_type": "code",
   "execution_count": 105,
   "metadata": {},
   "outputs": [
    {
     "name": "stdout",
     "output_type": "stream",
     "text": [
      "2.706614479096395\n"
     ]
    }
   ],
   "source": [
    "dist=0 #변위\n",
    "for i in range(len(s2)):\n",
    "    dist+=sqrt((s2[i,1]-s2[i,0])**2+(s2[i,2]-s2[i,3])**2)/len(s2) #Euclidean displacement\n",
    "\n",
    "print(dist)"
   ]
  },
  {
   "cell_type": "markdown",
   "metadata": {},
   "source": [
    "신뢰도를 높이기 위해 experiments수를 늘리고 Dist2d()함수를 정의하자"
   ]
  },
  {
   "cell_type": "code",
   "execution_count": 108,
   "metadata": {},
   "outputs": [],
   "source": [
    "experiments=10000\n",
    "\n",
    "def Dist2d(t):\n",
    "    s=np.random.multinomial(t,[1/4.]*4,experiments)\n",
    "    Displacement=0\n",
    "    for j in range(len(s)):\n",
    "        Displacement+=sqrt((s[j,1]-s[j,0])**2+(s[j,2]-s[j,3])**2)/len(s) #Euclidean displacement\n",
    "        \n",
    "    return Displacement"
   ]
  },
  {
   "cell_type": "code",
   "execution_count": 109,
   "metadata": {},
   "outputs": [
    {
     "data": {
      "text/plain": [
       "2.827002553913934"
      ]
     },
     "execution_count": 109,
     "metadata": {},
     "output_type": "execute_result"
    }
   ],
   "source": [
    "Dist2d(10)"
   ]
  },
  {
   "cell_type": "markdown",
   "metadata": {},
   "source": [
    "위에서와 똑같이 하면 된다."
   ]
  },
  {
   "cell_type": "code",
   "execution_count": 116,
   "metadata": {},
   "outputs": [
    {
     "data": {
      "application/vnd.jupyter.widget-view+json": {
       "model_id": "8d94137dc1f14271b7e4826de2995bbe",
       "version_major": 2,
       "version_minor": 0
      },
      "text/html": [
       "<p>Failed to display Jupyter Widget of type <code>HBox</code>.</p>\n",
       "<p>\n",
       "  If you're reading this message in the Jupyter Notebook or JupyterLab Notebook, it may mean\n",
       "  that the widgets JavaScript is still loading. If this message persists, it\n",
       "  likely means that the widgets JavaScript library is either not installed or\n",
       "  not enabled. See the <a href=\"https://ipywidgets.readthedocs.io/en/stable/user_install.html\">Jupyter\n",
       "  Widgets Documentation</a> for setup instructions.\n",
       "</p>\n",
       "<p>\n",
       "  If you're reading this message in another frontend (for example, a static\n",
       "  rendering on GitHub or <a href=\"https://nbviewer.jupyter.org/\">NBViewer</a>),\n",
       "  it may mean that your frontend doesn't currently support widgets.\n",
       "</p>\n"
      ],
      "text/plain": [
       "HBox(children=(IntProgress(value=0), HTML(value='')))"
      ]
     },
     "metadata": {},
     "output_type": "display_data"
    },
    {
     "name": "stdout",
     "output_type": "stream",
     "text": [
      "\n"
     ]
    },
    {
     "data": {
      "image/png": "[encoded data removed]",
      "text/plain": [
       "<matplotlib.figure.Figure at 0x25bc6759278>"
      ]
     },
     "metadata": {},
     "output_type": "display_data"
    }
   ],
   "source": [
    "px2d=[]\n",
    "py2d=[]\n",
    "total=tqdm_notebook(range(100))\n",
    "for xx in total:\n",
    "    px2d.append(xx)\n",
    "    py2d.append(Dist2d(xx))\n",
    "    \n",
    "plt.plot(px2d,py2d,'ro')\n",
    "plt.show()"
   ]
  },
  {
   "cell_type": "code",
   "execution_count": 117,
   "metadata": {},
   "outputs": [
    {
     "data": {
      "image/png": "[encoded data removed]",
      "text/plain": [
       "<matplotlib.figure.Figure at 0x25bc813aa58>"
      ]
     },
     "metadata": {},
     "output_type": "display_data"
    }
   ],
   "source": [
    "plt.plot(px,py,'go')\n",
    "plt.xscale('log')\n",
    "plt.yscale('log')\n",
    "plt.show()"
   ]
  },
  {
   "cell_type": "code",
   "execution_count": 115,
   "metadata": {},
   "outputs": [
    {
     "name": "stdout",
     "output_type": "stream",
     "text": [
      "[ 0.49507042 -0.10072386]\n",
      "Best fit: (0.495070)x+(-0.100724)\n",
      "\n",
      "[[ 2.36710546e-06 -8.58695479e-06]\n",
      " [-8.58695479e-06  3.31663194e-05]]\n"
     ]
    }
   ],
   "source": [
    "lnpx2d=[]\n",
    "lnpy2d=[]\n",
    "for k in range(99):\n",
    "    lnpx2d.append(log(px[k+1]))\n",
    "    lnpy2d.append(log(py[k+1]))\n",
    "    \n",
    "popt2d, pcov2d = curve_fit(func, lnpx2d, lnpy2d)\n",
    "print(popt2d) # (a,b)값을 반환해줌!\n",
    "print(\"Best fit: (%f)x+(%f)\"%(popt2d[0],popt2d[1]))\n",
    "print()\n",
    "print(pcov2d) #신뢰도를 보여줌(variance)"
   ]
  },
  {
   "cell_type": "code",
   "execution_count": 119,
   "metadata": {},
   "outputs": [
    {
     "data": {
      "image/png": "[encoded data removed]",
      "text/plain": [
       "<matplotlib.figure.Figure at 0x25bc8071b00>"
      ]
     },
     "metadata": {},
     "output_type": "display_data"
    }
   ],
   "source": [
    "fittedpy2d=[]\n",
    "for i in range(len(lnpx2d)):\n",
    "    fittedpy2d.append(func(lnpx2d[i],popt2d[0],popt2d[1]))\n",
    "\n",
    "plt.scatter(lnpx2d, lnpy2d, marker='.')\n",
    "plt.plot(lnpx2d,fittedpy2d,color='red')\n",
    "plt.legend(['Best Fit'], loc=2)\n",
    "plt.show()"
   ]
  },
  {
   "cell_type": "markdown",
   "metadata": {},
   "source": [
    "$ln(r) \\sim 0.5 ln(t) \\longrightarrow r \\sim t^{1/2}$"
   ]
  },
  {
   "cell_type": "code",
   "execution_count": null,
   "metadata": {},
   "outputs": [],
   "source": []
  }
 ],
 "metadata": {
  "kernelspec": {
   "display_name": "Python 3",
   "language": "python",
   "name": "python3"
  },
  "language_info": {
   "codemirror_mode": {
    "name": "ipython",
    "version": 3
   },
   "file_extension": ".py",
   "mimetype": "text/x-python",
   "name": "python",
   "nbconvert_exporter": "python",
   "pygments_lexer": "ipython3",
   "version": "3.6.4"
  }
 },
 "nbformat": 4,
 "nbformat_minor": 2
}
